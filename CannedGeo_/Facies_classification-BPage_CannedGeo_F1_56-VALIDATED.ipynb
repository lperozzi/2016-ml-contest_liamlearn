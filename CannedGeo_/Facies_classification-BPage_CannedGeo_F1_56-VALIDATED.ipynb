{
 "cells": [
  {
   "cell_type": "markdown",
   "metadata": {},
   "source": [
    "# Facies classification using Machine Learning\n",
    "\n",
    "<hr />\n",
    "\n",
    "## Contest entry by Bryan Page\n",
    "\n",
    "#### This version has been validated by Matt\n",
    "\n",
    "<hr />\n",
    "\n",
    "### Based on [the original notebook](../Facies_classification.ipynb) by Brendon Hall, [Enthought](https://www.enthought.com/)"
   ]
  },
  {
   "cell_type": "markdown",
   "metadata": {},
   "source": [
    "<hr />\n",
    "\n",
    "### Matt's current sklearn version"
   ]
  },
  {
   "cell_type": "code",
   "execution_count": 1,
   "metadata": {
    "collapsed": false
   },
   "outputs": [
    {
     "name": "stdout",
     "output_type": "stream",
     "text": [
      "0.18\n"
     ]
    }
   ],
   "source": [
    "import sklearn\n",
    "\n",
    "print(sklearn.__version__)"
   ]
  },
  {
   "cell_type": "markdown",
   "metadata": {},
   "source": [
    "<hr />\n",
    "\n",
    "## Exploring the dataset\n",
    "\n",
    "First, we will examine the data set we will use to train the classifier."
   ]
  },
  {
   "cell_type": "code",
   "execution_count": 2,
   "metadata": {
    "collapsed": false
   },
   "outputs": [
    {
     "data": {
      "text/html": [
       "<div>\n",
       "<table border=\"1\" class=\"dataframe\">\n",
       "  <thead>\n",
       "    <tr style=\"text-align: right;\">\n",
       "      <th></th>\n",
       "      <th>Facies</th>\n",
       "      <th>Formation</th>\n",
       "      <th>Well Name</th>\n",
       "      <th>Depth</th>\n",
       "      <th>GR</th>\n",
       "      <th>ILD_log10</th>\n",
       "      <th>DeltaPHI</th>\n",
       "      <th>PHIND</th>\n",
       "      <th>PE</th>\n",
       "      <th>NM_M</th>\n",
       "      <th>RELPOS</th>\n",
       "    </tr>\n",
       "  </thead>\n",
       "  <tbody>\n",
       "    <tr>\n",
       "      <th>0</th>\n",
       "      <td>3</td>\n",
       "      <td>A1 SH</td>\n",
       "      <td>SHRIMPLIN</td>\n",
       "      <td>2793.0</td>\n",
       "      <td>77.450</td>\n",
       "      <td>0.664</td>\n",
       "      <td>9.900</td>\n",
       "      <td>11.915</td>\n",
       "      <td>4.600</td>\n",
       "      <td>1</td>\n",
       "      <td>1.000</td>\n",
       "    </tr>\n",
       "    <tr>\n",
       "      <th>1</th>\n",
       "      <td>3</td>\n",
       "      <td>A1 SH</td>\n",
       "      <td>SHRIMPLIN</td>\n",
       "      <td>2793.5</td>\n",
       "      <td>78.260</td>\n",
       "      <td>0.661</td>\n",
       "      <td>14.200</td>\n",
       "      <td>12.565</td>\n",
       "      <td>4.100</td>\n",
       "      <td>1</td>\n",
       "      <td>0.979</td>\n",
       "    </tr>\n",
       "    <tr>\n",
       "      <th>2</th>\n",
       "      <td>3</td>\n",
       "      <td>A1 SH</td>\n",
       "      <td>SHRIMPLIN</td>\n",
       "      <td>2794.0</td>\n",
       "      <td>79.050</td>\n",
       "      <td>0.658</td>\n",
       "      <td>14.800</td>\n",
       "      <td>13.050</td>\n",
       "      <td>3.600</td>\n",
       "      <td>1</td>\n",
       "      <td>0.957</td>\n",
       "    </tr>\n",
       "    <tr>\n",
       "      <th>3</th>\n",
       "      <td>3</td>\n",
       "      <td>A1 SH</td>\n",
       "      <td>SHRIMPLIN</td>\n",
       "      <td>2794.5</td>\n",
       "      <td>86.100</td>\n",
       "      <td>0.655</td>\n",
       "      <td>13.900</td>\n",
       "      <td>13.115</td>\n",
       "      <td>3.500</td>\n",
       "      <td>1</td>\n",
       "      <td>0.936</td>\n",
       "    </tr>\n",
       "    <tr>\n",
       "      <th>4</th>\n",
       "      <td>3</td>\n",
       "      <td>A1 SH</td>\n",
       "      <td>SHRIMPLIN</td>\n",
       "      <td>2795.0</td>\n",
       "      <td>74.580</td>\n",
       "      <td>0.647</td>\n",
       "      <td>13.500</td>\n",
       "      <td>13.300</td>\n",
       "      <td>3.400</td>\n",
       "      <td>1</td>\n",
       "      <td>0.915</td>\n",
       "    </tr>\n",
       "    <tr>\n",
       "      <th>...</th>\n",
       "      <td>...</td>\n",
       "      <td>...</td>\n",
       "      <td>...</td>\n",
       "      <td>...</td>\n",
       "      <td>...</td>\n",
       "      <td>...</td>\n",
       "      <td>...</td>\n",
       "      <td>...</td>\n",
       "      <td>...</td>\n",
       "      <td>...</td>\n",
       "      <td>...</td>\n",
       "    </tr>\n",
       "    <tr>\n",
       "      <th>4144</th>\n",
       "      <td>5</td>\n",
       "      <td>C LM</td>\n",
       "      <td>CHURCHMAN BIBLE</td>\n",
       "      <td>3120.5</td>\n",
       "      <td>46.719</td>\n",
       "      <td>0.947</td>\n",
       "      <td>1.828</td>\n",
       "      <td>7.254</td>\n",
       "      <td>3.617</td>\n",
       "      <td>2</td>\n",
       "      <td>0.685</td>\n",
       "    </tr>\n",
       "    <tr>\n",
       "      <th>4145</th>\n",
       "      <td>5</td>\n",
       "      <td>C LM</td>\n",
       "      <td>CHURCHMAN BIBLE</td>\n",
       "      <td>3121.0</td>\n",
       "      <td>44.563</td>\n",
       "      <td>0.953</td>\n",
       "      <td>2.241</td>\n",
       "      <td>8.013</td>\n",
       "      <td>3.344</td>\n",
       "      <td>2</td>\n",
       "      <td>0.677</td>\n",
       "    </tr>\n",
       "    <tr>\n",
       "      <th>4146</th>\n",
       "      <td>5</td>\n",
       "      <td>C LM</td>\n",
       "      <td>CHURCHMAN BIBLE</td>\n",
       "      <td>3121.5</td>\n",
       "      <td>49.719</td>\n",
       "      <td>0.964</td>\n",
       "      <td>2.925</td>\n",
       "      <td>8.013</td>\n",
       "      <td>3.190</td>\n",
       "      <td>2</td>\n",
       "      <td>0.669</td>\n",
       "    </tr>\n",
       "    <tr>\n",
       "      <th>4147</th>\n",
       "      <td>5</td>\n",
       "      <td>C LM</td>\n",
       "      <td>CHURCHMAN BIBLE</td>\n",
       "      <td>3122.0</td>\n",
       "      <td>51.469</td>\n",
       "      <td>0.965</td>\n",
       "      <td>3.083</td>\n",
       "      <td>7.708</td>\n",
       "      <td>3.152</td>\n",
       "      <td>2</td>\n",
       "      <td>0.661</td>\n",
       "    </tr>\n",
       "    <tr>\n",
       "      <th>4148</th>\n",
       "      <td>5</td>\n",
       "      <td>C LM</td>\n",
       "      <td>CHURCHMAN BIBLE</td>\n",
       "      <td>3122.5</td>\n",
       "      <td>50.031</td>\n",
       "      <td>0.970</td>\n",
       "      <td>2.609</td>\n",
       "      <td>6.668</td>\n",
       "      <td>3.295</td>\n",
       "      <td>2</td>\n",
       "      <td>0.653</td>\n",
       "    </tr>\n",
       "  </tbody>\n",
       "</table>\n",
       "<p>4149 rows × 11 columns</p>\n",
       "</div>"
      ],
      "text/plain": [
       "      Facies Formation        Well Name   Depth      GR  ILD_log10  DeltaPHI  \\\n",
       "0          3     A1 SH        SHRIMPLIN  2793.0  77.450      0.664     9.900   \n",
       "1          3     A1 SH        SHRIMPLIN  2793.5  78.260      0.661    14.200   \n",
       "2          3     A1 SH        SHRIMPLIN  2794.0  79.050      0.658    14.800   \n",
       "3          3     A1 SH        SHRIMPLIN  2794.5  86.100      0.655    13.900   \n",
       "4          3     A1 SH        SHRIMPLIN  2795.0  74.580      0.647    13.500   \n",
       "...      ...       ...              ...     ...     ...        ...       ...   \n",
       "4144       5      C LM  CHURCHMAN BIBLE  3120.5  46.719      0.947     1.828   \n",
       "4145       5      C LM  CHURCHMAN BIBLE  3121.0  44.563      0.953     2.241   \n",
       "4146       5      C LM  CHURCHMAN BIBLE  3121.5  49.719      0.964     2.925   \n",
       "4147       5      C LM  CHURCHMAN BIBLE  3122.0  51.469      0.965     3.083   \n",
       "4148       5      C LM  CHURCHMAN BIBLE  3122.5  50.031      0.970     2.609   \n",
       "\n",
       "       PHIND     PE  NM_M  RELPOS  \n",
       "0     11.915  4.600     1   1.000  \n",
       "1     12.565  4.100     1   0.979  \n",
       "2     13.050  3.600     1   0.957  \n",
       "3     13.115  3.500     1   0.936  \n",
       "4     13.300  3.400     1   0.915  \n",
       "...      ...    ...   ...     ...  \n",
       "4144   7.254  3.617     2   0.685  \n",
       "4145   8.013  3.344     2   0.677  \n",
       "4146   8.013  3.190     2   0.669  \n",
       "4147   7.708  3.152     2   0.661  \n",
       "4148   6.668  3.295     2   0.653  \n",
       "\n",
       "[4149 rows x 11 columns]"
      ]
     },
     "execution_count": 2,
     "metadata": {},
     "output_type": "execute_result"
    }
   ],
   "source": [
    "%matplotlib inline\n",
    "import pandas as pd\n",
    "import numpy as np\n",
    "import matplotlib as mpl\n",
    "import matplotlib.pyplot as plt\n",
    "import matplotlib.colors as colors\n",
    "from mpl_toolkits.axes_grid1 import make_axes_locatable\n",
    "\n",
    "from pandas import set_option\n",
    "set_option(\"display.max_rows\", 10)\n",
    "pd.options.mode.chained_assignment = None\n",
    "\n",
    "filename = '../data/facies_vectors.csv'\n",
    "training_data = pd.read_csv(filename)\n",
    "training_data"
   ]
  },
  {
   "cell_type": "markdown",
   "metadata": {},
   "source": [
    "Remove a single well to use as a blind test later."
   ]
  },
  {
   "cell_type": "code",
   "execution_count": 3,
   "metadata": {
    "collapsed": true
   },
   "outputs": [],
   "source": [
    "# blind = training_data[training_data['Well Name'] == 'SHANKLE']\n",
    "# training_data = training_data[training_data['Well Name'] != 'SHANKLE']\n"
   ]
  },
  {
   "cell_type": "code",
   "execution_count": 4,
   "metadata": {
    "collapsed": false
   },
   "outputs": [
    {
     "data": {
      "text/plain": [
       "True"
      ]
     },
     "execution_count": 4,
     "metadata": {},
     "output_type": "execute_result"
    }
   ],
   "source": [
    "'SHANKLE' in training_data['Well Name'].unique()"
   ]
  },
  {
   "cell_type": "code",
   "execution_count": 5,
   "metadata": {
    "collapsed": false
   },
   "outputs": [
    {
     "data": {
      "text/plain": [
       "[SHRIMPLIN, ALEXANDER D, SHANKLE, LUKE G U, KIMZEY A, CROSS H CATTLE, NOLAN, Recruit F9, NEWBY, CHURCHMAN BIBLE]\n",
       "Categories (10, object): [SHRIMPLIN, ALEXANDER D, SHANKLE, LUKE G U, ..., NOLAN, Recruit F9, NEWBY, CHURCHMAN BIBLE]"
      ]
     },
     "execution_count": 5,
     "metadata": {},
     "output_type": "execute_result"
    }
   ],
   "source": [
    "training_data['Well Name'] = training_data['Well Name'].astype('category')\n",
    "training_data['Formation'] = training_data['Formation'].astype('category')\n",
    "training_data['Well Name'].unique()"
   ]
  },
  {
   "cell_type": "markdown",
   "metadata": {},
   "source": [
    "These are the names of the 10 training wells in the Council Grove reservoir.  Data has been recruited into pseudo-well 'Recruit F9' to better represent facies 9, the Phylloid-algal bafflestone. \n",
    "\n",
    "Before we plot the well data, let's define a color map so the facies are represented by consistent color in all the plots in this tutorial.  We also create the abbreviated facies labels, and add those to the `facies_vectors` dataframe."
   ]
  },
  {
   "cell_type": "code",
   "execution_count": 6,
   "metadata": {
    "collapsed": false
   },
   "outputs": [
    {
     "name": "stderr",
     "output_type": "stream",
     "text": [
      "/Users/lorenzoperozzi/anaconda3/lib/python3.5/site-packages/numpy/lib/function_base.py:3834: RuntimeWarning: Invalid value encountered in percentile\n",
      "  RuntimeWarning)\n"
     ]
    },
    {
     "data": {
      "text/html": [
       "<div>\n",
       "<table border=\"1\" class=\"dataframe\">\n",
       "  <thead>\n",
       "    <tr style=\"text-align: right;\">\n",
       "      <th></th>\n",
       "      <th>Facies</th>\n",
       "      <th>Depth</th>\n",
       "      <th>GR</th>\n",
       "      <th>ILD_log10</th>\n",
       "      <th>DeltaPHI</th>\n",
       "      <th>PHIND</th>\n",
       "      <th>PE</th>\n",
       "      <th>NM_M</th>\n",
       "      <th>RELPOS</th>\n",
       "    </tr>\n",
       "  </thead>\n",
       "  <tbody>\n",
       "    <tr>\n",
       "      <th>count</th>\n",
       "      <td>4149.000000</td>\n",
       "      <td>4149.000000</td>\n",
       "      <td>4149.000000</td>\n",
       "      <td>4149.000000</td>\n",
       "      <td>4149.000000</td>\n",
       "      <td>4149.000000</td>\n",
       "      <td>3232.000000</td>\n",
       "      <td>4149.000000</td>\n",
       "      <td>4149.000000</td>\n",
       "    </tr>\n",
       "    <tr>\n",
       "      <th>mean</th>\n",
       "      <td>4.503254</td>\n",
       "      <td>2906.867438</td>\n",
       "      <td>64.933985</td>\n",
       "      <td>0.659566</td>\n",
       "      <td>4.402484</td>\n",
       "      <td>13.201066</td>\n",
       "      <td>3.725014</td>\n",
       "      <td>1.518438</td>\n",
       "      <td>0.521852</td>\n",
       "    </tr>\n",
       "    <tr>\n",
       "      <th>std</th>\n",
       "      <td>2.474324</td>\n",
       "      <td>133.300164</td>\n",
       "      <td>30.302530</td>\n",
       "      <td>0.252703</td>\n",
       "      <td>5.274947</td>\n",
       "      <td>7.132846</td>\n",
       "      <td>0.896152</td>\n",
       "      <td>0.499720</td>\n",
       "      <td>0.286644</td>\n",
       "    </tr>\n",
       "    <tr>\n",
       "      <th>min</th>\n",
       "      <td>1.000000</td>\n",
       "      <td>2573.500000</td>\n",
       "      <td>10.149000</td>\n",
       "      <td>-0.025949</td>\n",
       "      <td>-21.832000</td>\n",
       "      <td>0.550000</td>\n",
       "      <td>0.200000</td>\n",
       "      <td>1.000000</td>\n",
       "      <td>0.000000</td>\n",
       "    </tr>\n",
       "    <tr>\n",
       "      <th>25%</th>\n",
       "      <td>2.000000</td>\n",
       "      <td>2821.500000</td>\n",
       "      <td>44.730000</td>\n",
       "      <td>0.498000</td>\n",
       "      <td>1.600000</td>\n",
       "      <td>8.500000</td>\n",
       "      <td>NaN</td>\n",
       "      <td>1.000000</td>\n",
       "      <td>0.277000</td>\n",
       "    </tr>\n",
       "    <tr>\n",
       "      <th>50%</th>\n",
       "      <td>4.000000</td>\n",
       "      <td>2932.500000</td>\n",
       "      <td>64.990000</td>\n",
       "      <td>0.639000</td>\n",
       "      <td>4.300000</td>\n",
       "      <td>12.020000</td>\n",
       "      <td>NaN</td>\n",
       "      <td>2.000000</td>\n",
       "      <td>0.528000</td>\n",
       "    </tr>\n",
       "    <tr>\n",
       "      <th>75%</th>\n",
       "      <td>6.000000</td>\n",
       "      <td>3007.000000</td>\n",
       "      <td>79.438000</td>\n",
       "      <td>0.822000</td>\n",
       "      <td>7.500000</td>\n",
       "      <td>16.050000</td>\n",
       "      <td>NaN</td>\n",
       "      <td>2.000000</td>\n",
       "      <td>0.769000</td>\n",
       "    </tr>\n",
       "    <tr>\n",
       "      <th>max</th>\n",
       "      <td>9.000000</td>\n",
       "      <td>3138.000000</td>\n",
       "      <td>361.150000</td>\n",
       "      <td>1.800000</td>\n",
       "      <td>19.312000</td>\n",
       "      <td>84.400000</td>\n",
       "      <td>8.094000</td>\n",
       "      <td>2.000000</td>\n",
       "      <td>1.000000</td>\n",
       "    </tr>\n",
       "  </tbody>\n",
       "</table>\n",
       "</div>"
      ],
      "text/plain": [
       "            Facies        Depth           GR    ILD_log10     DeltaPHI  \\\n",
       "count  4149.000000  4149.000000  4149.000000  4149.000000  4149.000000   \n",
       "mean      4.503254  2906.867438    64.933985     0.659566     4.402484   \n",
       "std       2.474324   133.300164    30.302530     0.252703     5.274947   \n",
       "min       1.000000  2573.500000    10.149000    -0.025949   -21.832000   \n",
       "25%       2.000000  2821.500000    44.730000     0.498000     1.600000   \n",
       "50%       4.000000  2932.500000    64.990000     0.639000     4.300000   \n",
       "75%       6.000000  3007.000000    79.438000     0.822000     7.500000   \n",
       "max       9.000000  3138.000000   361.150000     1.800000    19.312000   \n",
       "\n",
       "             PHIND           PE         NM_M       RELPOS  \n",
       "count  4149.000000  3232.000000  4149.000000  4149.000000  \n",
       "mean     13.201066     3.725014     1.518438     0.521852  \n",
       "std       7.132846     0.896152     0.499720     0.286644  \n",
       "min       0.550000     0.200000     1.000000     0.000000  \n",
       "25%       8.500000          NaN     1.000000     0.277000  \n",
       "50%      12.020000          NaN     2.000000     0.528000  \n",
       "75%      16.050000          NaN     2.000000     0.769000  \n",
       "max      84.400000     8.094000     2.000000     1.000000  "
      ]
     },
     "execution_count": 6,
     "metadata": {},
     "output_type": "execute_result"
    }
   ],
   "source": [
    "# 1=sandstone  2=c_siltstone   3=f_siltstone # 4=marine_silt_shale \n",
    "#5=mudstone 6=wackestone 7=dolomite 8=packstone 9=bafflestone\n",
    "facies_colors = ['#F4D03F', '#F5B041', '#DC7633','#A569BD',\n",
    "       '#000000', '#000080', '#2E86C1', '#AED6F1', '#196F3D']\n",
    "\n",
    "facies_labels = ['SS', 'CSiS', 'FSiS', 'SiSh', 'MS',\n",
    "                 'WS', 'D','PS', 'BS']\n",
    "#facies_color_map is a dictionary that maps facies labels\n",
    "#to their respective colors\n",
    "facies_color_map = {}\n",
    "for ind, label in enumerate(facies_labels):\n",
    "    facies_color_map[label] = facies_colors[ind]\n",
    "\n",
    "def label_facies(row, labels):\n",
    "    return labels[ row['Facies'] -1]\n",
    "    \n",
    "training_data.loc[:,'FaciesLabels'] = training_data.apply(lambda row: label_facies(row, facies_labels), axis=1)\n",
    "training_data.describe()"
   ]
  },
  {
   "cell_type": "markdown",
   "metadata": {},
   "source": [
    "This is a quick view of the statistical distribution of the input variables.  Looking at the `count` values, most values have 4149 valid values except for `PE`, which has 3232.  In this tutorial we will drop the feature vectors that don't have a valid `PE` entry."
   ]
  },
  {
   "cell_type": "code",
   "execution_count": 7,
   "metadata": {
    "collapsed": false
   },
   "outputs": [],
   "source": [
    "# PE_mask = training_data['PE'].notnull().values\n",
    "# training_data = training_data[PE_mask]\n",
    "training_data.replace(to_replace=np.nan, value=-99999.0, inplace=True)\n",
    "training_data.to_pickle('../data/training_data_raw.pkl')\n"
   ]
  },
  {
   "cell_type": "code",
   "execution_count": 8,
   "metadata": {
    "collapsed": false
   },
   "outputs": [
    {
     "data": {
      "text/html": [
       "<div>\n",
       "<table border=\"1\" class=\"dataframe\">\n",
       "  <thead>\n",
       "    <tr style=\"text-align: right;\">\n",
       "      <th></th>\n",
       "      <th>Facies</th>\n",
       "      <th>Depth</th>\n",
       "      <th>GR</th>\n",
       "      <th>ILD_log10</th>\n",
       "      <th>DeltaPHI</th>\n",
       "      <th>PHIND</th>\n",
       "      <th>PE</th>\n",
       "      <th>NM_M</th>\n",
       "      <th>RELPOS</th>\n",
       "    </tr>\n",
       "  </thead>\n",
       "  <tbody>\n",
       "    <tr>\n",
       "      <th>count</th>\n",
       "      <td>4149.000000</td>\n",
       "      <td>4149.000000</td>\n",
       "      <td>4149.000000</td>\n",
       "      <td>4149.000000</td>\n",
       "      <td>4149.000000</td>\n",
       "      <td>4149.000000</td>\n",
       "      <td>4149.000000</td>\n",
       "      <td>4149.000000</td>\n",
       "      <td>4149.000000</td>\n",
       "    </tr>\n",
       "    <tr>\n",
       "      <th>mean</th>\n",
       "      <td>4.503254</td>\n",
       "      <td>2906.867438</td>\n",
       "      <td>64.933985</td>\n",
       "      <td>0.659566</td>\n",
       "      <td>4.402484</td>\n",
       "      <td>13.201066</td>\n",
       "      <td>-22098.588517</td>\n",
       "      <td>1.518438</td>\n",
       "      <td>0.521852</td>\n",
       "    </tr>\n",
       "    <tr>\n",
       "      <th>std</th>\n",
       "      <td>2.474324</td>\n",
       "      <td>133.300164</td>\n",
       "      <td>30.302530</td>\n",
       "      <td>0.252703</td>\n",
       "      <td>5.274947</td>\n",
       "      <td>7.132846</td>\n",
       "      <td>41499.330187</td>\n",
       "      <td>0.499720</td>\n",
       "      <td>0.286644</td>\n",
       "    </tr>\n",
       "    <tr>\n",
       "      <th>min</th>\n",
       "      <td>1.000000</td>\n",
       "      <td>2573.500000</td>\n",
       "      <td>10.149000</td>\n",
       "      <td>-0.025949</td>\n",
       "      <td>-21.832000</td>\n",
       "      <td>0.550000</td>\n",
       "      <td>-99999.000000</td>\n",
       "      <td>1.000000</td>\n",
       "      <td>0.000000</td>\n",
       "    </tr>\n",
       "    <tr>\n",
       "      <th>25%</th>\n",
       "      <td>2.000000</td>\n",
       "      <td>2821.500000</td>\n",
       "      <td>44.730000</td>\n",
       "      <td>0.498000</td>\n",
       "      <td>1.600000</td>\n",
       "      <td>8.500000</td>\n",
       "      <td>2.416000</td>\n",
       "      <td>1.000000</td>\n",
       "      <td>0.277000</td>\n",
       "    </tr>\n",
       "    <tr>\n",
       "      <th>50%</th>\n",
       "      <td>4.000000</td>\n",
       "      <td>2932.500000</td>\n",
       "      <td>64.990000</td>\n",
       "      <td>0.639000</td>\n",
       "      <td>4.300000</td>\n",
       "      <td>12.020000</td>\n",
       "      <td>3.300000</td>\n",
       "      <td>2.000000</td>\n",
       "      <td>0.528000</td>\n",
       "    </tr>\n",
       "    <tr>\n",
       "      <th>75%</th>\n",
       "      <td>6.000000</td>\n",
       "      <td>3007.000000</td>\n",
       "      <td>79.438000</td>\n",
       "      <td>0.822000</td>\n",
       "      <td>7.500000</td>\n",
       "      <td>16.050000</td>\n",
       "      <td>4.000000</td>\n",
       "      <td>2.000000</td>\n",
       "      <td>0.769000</td>\n",
       "    </tr>\n",
       "    <tr>\n",
       "      <th>max</th>\n",
       "      <td>9.000000</td>\n",
       "      <td>3138.000000</td>\n",
       "      <td>361.150000</td>\n",
       "      <td>1.800000</td>\n",
       "      <td>19.312000</td>\n",
       "      <td>84.400000</td>\n",
       "      <td>8.094000</td>\n",
       "      <td>2.000000</td>\n",
       "      <td>1.000000</td>\n",
       "    </tr>\n",
       "  </tbody>\n",
       "</table>\n",
       "</div>"
      ],
      "text/plain": [
       "            Facies        Depth           GR    ILD_log10     DeltaPHI  \\\n",
       "count  4149.000000  4149.000000  4149.000000  4149.000000  4149.000000   \n",
       "mean      4.503254  2906.867438    64.933985     0.659566     4.402484   \n",
       "std       2.474324   133.300164    30.302530     0.252703     5.274947   \n",
       "min       1.000000  2573.500000    10.149000    -0.025949   -21.832000   \n",
       "25%       2.000000  2821.500000    44.730000     0.498000     1.600000   \n",
       "50%       4.000000  2932.500000    64.990000     0.639000     4.300000   \n",
       "75%       6.000000  3007.000000    79.438000     0.822000     7.500000   \n",
       "max       9.000000  3138.000000   361.150000     1.800000    19.312000   \n",
       "\n",
       "             PHIND            PE         NM_M       RELPOS  \n",
       "count  4149.000000   4149.000000  4149.000000  4149.000000  \n",
       "mean     13.201066 -22098.588517     1.518438     0.521852  \n",
       "std       7.132846  41499.330187     0.499720     0.286644  \n",
       "min       0.550000 -99999.000000     1.000000     0.000000  \n",
       "25%       8.500000      2.416000     1.000000     0.277000  \n",
       "50%      12.020000      3.300000     2.000000     0.528000  \n",
       "75%      16.050000      4.000000     2.000000     0.769000  \n",
       "max      84.400000      8.094000     2.000000     1.000000  "
      ]
     },
     "execution_count": 8,
     "metadata": {},
     "output_type": "execute_result"
    }
   ],
   "source": [
    "training_data.describe()"
   ]
  },
  {
   "cell_type": "markdown",
   "metadata": {},
   "source": [
    "Let's take a look at the data from individual wells in a more familiar log plot form.  We will create plots for the five well log variables, as well as a log for facies labels.  The plots are based on the those described in Alessandro Amato del Monte's [excellent tutorial](https://github.com/seg/tutorials/tree/master/1504_Seismic_petrophysics_1)."
   ]
  },
  {
   "cell_type": "code",
   "execution_count": 9,
   "metadata": {
    "collapsed": false
   },
   "outputs": [],
   "source": [
    "#I changed the colors to match the paper for easier compare.\n",
    "def make_facies_log_plot(logs, facies_colors):\n",
    "    #make sure logs are sorted by depth\n",
    "    logs = logs.sort_values(by='Depth')\n",
    "    cmap_facies = colors.ListedColormap(\n",
    "            facies_colors[0:len(facies_colors)], 'indexed')\n",
    "    \n",
    "    ztop=logs.Depth.min(); zbot=logs.Depth.max()\n",
    "    \n",
    "    cluster=np.repeat(np.expand_dims(logs['Facies'].values,1), 100, 1)\n",
    "    \n",
    "    f, ax = plt.subplots(nrows=1, ncols=6, figsize=(8, 12))\n",
    "    ax[0].plot(logs.GR, logs.Depth, '-g')\n",
    "    ax[1].plot(logs.ILD_log10, logs.Depth, '-')\n",
    "    ax[2].plot(logs.DeltaPHI, logs.Depth, '-', color='0.5')\n",
    "    ax[3].plot(logs.PHIND, logs.Depth, '-', color='r')\n",
    "    ax[4].plot(logs.PE, logs.Depth, '-', color='black')\n",
    "    im=ax[5].imshow(cluster, interpolation='none', aspect='auto',\n",
    "                    cmap=cmap_facies,vmin=1,vmax=9)\n",
    "    \n",
    "    divider = make_axes_locatable(ax[5])\n",
    "    cax = divider.append_axes(\"right\", size=\"20%\", pad=0.05)\n",
    "    cbar=plt.colorbar(im, cax=cax)\n",
    "    cbar.set_label((17*' ').join([' SS ', 'CSiS', 'FSiS', \n",
    "                                'SiSh', ' MS ', ' WS ', ' D  ', \n",
    "                                ' PS ', ' BS ']))\n",
    "    cbar.set_ticks(range(0,1)); cbar.set_ticklabels('')\n",
    "    \n",
    "    for i in range(len(ax)-1):\n",
    "        ax[i].set_ylim(ztop,zbot)\n",
    "        ax[i].invert_yaxis()\n",
    "        ax[i].grid()\n",
    "        ax[i].locator_params(axis='x', nbins=3)\n",
    "    \n",
    "    ax[0].set_xlabel(\"GR\")\n",
    "    ax[0].set_xlim(logs.GR.min(),logs.GR.max())\n",
    "    ax[1].set_xlabel(\"ILD_log10\")\n",
    "    ax[1].set_xlim(logs.ILD_log10.min(),logs.ILD_log10.max())\n",
    "    ax[2].set_xlabel(\"DeltaPHI\")\n",
    "    ax[2].set_xlim(logs.DeltaPHI.min(),logs.DeltaPHI.max())\n",
    "    ax[3].set_xlabel(\"PHIND\")\n",
    "    ax[3].set_xlim(logs.PHIND.min(),logs.PHIND.max())\n",
    "    ax[4].set_xlabel(\"PE\")\n",
    "    ax[4].set_xlim(logs.PE.min(),logs.PE.max())\n",
    "    ax[5].set_xlabel('Facies')\n",
    "    \n",
    "    ax[1].set_yticklabels([]); ax[2].set_yticklabels([]); ax[3].set_yticklabels([])\n",
    "    ax[4].set_yticklabels([]); ax[5].set_yticklabels([])\n",
    "    ax[5].set_xticklabels([])\n",
    "    f.suptitle('Well: %s'%logs.iloc[0]['Well Name'], fontsize=14,y=0.94)"
   ]
  },
  {
   "cell_type": "markdown",
   "metadata": {},
   "source": [
    "In addition to individual wells, we can look at how the various facies are represented by the entire training set.  Let's plot a histgram of the number of training examples for each facies class."
   ]
  },
  {
   "cell_type": "code",
   "execution_count": 10,
   "metadata": {
    "collapsed": false
   },
   "outputs": [
    {
     "data": {
      "text/plain": [
       "SS      179\n",
       "CSiS    851\n",
       "FSiS    663\n",
       "SiSh    264\n",
       "MS      277\n",
       "WS      511\n",
       "D       124\n",
       "PS      646\n",
       "BS      185\n",
       "Name: Facies, dtype: int64"
      ]
     },
     "execution_count": 10,
     "metadata": {},
     "output_type": "execute_result"
    },
    {
     "data": {
      "image/png": "[encoded data removed]",
      "text/plain": [
       "<matplotlib.figure.Figure at 0x114207c50>"
      ]
     },
     "metadata": {},
     "output_type": "display_data"
    }
   ],
   "source": [
    "#count the number of unique entries for each facies, sort them by\n",
    "#facies number (instead of by number of entries)\n",
    "facies_counts = training_data['Facies'].value_counts().sort_index()\n",
    "#use facies labels to index each count\n",
    "facies_counts.index = facies_labels\n",
    "\n",
    "facies_counts.plot(kind='bar',color=facies_colors, \n",
    "                   title='Distribution of Training Data by Facies')\n",
    "facies_counts"
   ]
  },
  {
   "cell_type": "markdown",
   "metadata": {},
   "source": [
    "## Conditioning the data set\n",
    "\n",
    "Now we extract just the feature variables we need to perform the classification.  The predictor variables are the five wireline values and two geologic constraining variables. We also get a vector of the facies labels that correspond to each feature vector."
   ]
  },
  {
   "cell_type": "code",
   "execution_count": 11,
   "metadata": {
    "collapsed": false,
    "scrolled": true
   },
   "outputs": [
    {
     "data": {
      "text/html": [
       "<div>\n",
       "<table border=\"1\" class=\"dataframe\">\n",
       "  <thead>\n",
       "    <tr style=\"text-align: right;\">\n",
       "      <th></th>\n",
       "      <th>GR</th>\n",
       "      <th>ILD_log10</th>\n",
       "      <th>DeltaPHI</th>\n",
       "      <th>PHIND</th>\n",
       "      <th>PE</th>\n",
       "      <th>NM_M</th>\n",
       "      <th>RELPOS</th>\n",
       "    </tr>\n",
       "  </thead>\n",
       "  <tbody>\n",
       "    <tr>\n",
       "      <th>count</th>\n",
       "      <td>3700.000000</td>\n",
       "      <td>3700.000000</td>\n",
       "      <td>3700.000000</td>\n",
       "      <td>3700.000000</td>\n",
       "      <td>3700.000000</td>\n",
       "      <td>3700.000000</td>\n",
       "      <td>3700.000000</td>\n",
       "    </tr>\n",
       "    <tr>\n",
       "      <th>mean</th>\n",
       "      <td>64.873649</td>\n",
       "      <td>0.663053</td>\n",
       "      <td>4.651677</td>\n",
       "      <td>12.892826</td>\n",
       "      <td>-24780.673447</td>\n",
       "      <td>1.540000</td>\n",
       "      <td>0.524125</td>\n",
       "    </tr>\n",
       "    <tr>\n",
       "      <th>std</th>\n",
       "      <td>30.817166</td>\n",
       "      <td>0.253863</td>\n",
       "      <td>5.109006</td>\n",
       "      <td>6.796219</td>\n",
       "      <td>43182.763145</td>\n",
       "      <td>0.498465</td>\n",
       "      <td>0.287147</td>\n",
       "    </tr>\n",
       "    <tr>\n",
       "      <th>min</th>\n",
       "      <td>10.149000</td>\n",
       "      <td>-0.025949</td>\n",
       "      <td>-21.832000</td>\n",
       "      <td>0.550000</td>\n",
       "      <td>-99999.000000</td>\n",
       "      <td>1.000000</td>\n",
       "      <td>0.000000</td>\n",
       "    </tr>\n",
       "    <tr>\n",
       "      <th>25%</th>\n",
       "      <td>43.778250</td>\n",
       "      <td>0.502000</td>\n",
       "      <td>1.800000</td>\n",
       "      <td>8.350000</td>\n",
       "      <td>1.501000</td>\n",
       "      <td>1.000000</td>\n",
       "      <td>0.278000</td>\n",
       "    </tr>\n",
       "    <tr>\n",
       "      <th>50%</th>\n",
       "      <td>64.817000</td>\n",
       "      <td>0.645613</td>\n",
       "      <td>4.400000</td>\n",
       "      <td>11.857500</td>\n",
       "      <td>3.300000</td>\n",
       "      <td>2.000000</td>\n",
       "      <td>0.531000</td>\n",
       "    </tr>\n",
       "    <tr>\n",
       "      <th>75%</th>\n",
       "      <td>80.322500</td>\n",
       "      <td>0.823000</td>\n",
       "      <td>7.600000</td>\n",
       "      <td>15.750000</td>\n",
       "      <td>4.100000</td>\n",
       "      <td>2.000000</td>\n",
       "      <td>0.772000</td>\n",
       "    </tr>\n",
       "    <tr>\n",
       "      <th>max</th>\n",
       "      <td>361.150000</td>\n",
       "      <td>1.800000</td>\n",
       "      <td>19.312000</td>\n",
       "      <td>84.400000</td>\n",
       "      <td>8.094000</td>\n",
       "      <td>2.000000</td>\n",
       "      <td>1.000000</td>\n",
       "    </tr>\n",
       "  </tbody>\n",
       "</table>\n",
       "</div>"
      ],
      "text/plain": [
       "                GR    ILD_log10     DeltaPHI        PHIND            PE  \\\n",
       "count  3700.000000  3700.000000  3700.000000  3700.000000   3700.000000   \n",
       "mean     64.873649     0.663053     4.651677    12.892826 -24780.673447   \n",
       "std      30.817166     0.253863     5.109006     6.796219  43182.763145   \n",
       "min      10.149000    -0.025949   -21.832000     0.550000 -99999.000000   \n",
       "25%      43.778250     0.502000     1.800000     8.350000      1.501000   \n",
       "50%      64.817000     0.645613     4.400000    11.857500      3.300000   \n",
       "75%      80.322500     0.823000     7.600000    15.750000      4.100000   \n",
       "max     361.150000     1.800000    19.312000    84.400000      8.094000   \n",
       "\n",
       "              NM_M       RELPOS  \n",
       "count  3700.000000  3700.000000  \n",
       "mean      1.540000     0.524125  \n",
       "std       0.498465     0.287147  \n",
       "min       1.000000     0.000000  \n",
       "25%       1.000000     0.278000  \n",
       "50%       2.000000     0.531000  \n",
       "75%       2.000000     0.772000  \n",
       "max       2.000000     1.000000  "
      ]
     },
     "execution_count": 11,
     "metadata": {},
     "output_type": "execute_result"
    }
   ],
   "source": [
    "correct_facies_labels = training_data['Facies'].values\n",
    "\n",
    "feature_vectors = training_data.drop(['Formation', 'Well Name', 'Depth','Facies','FaciesLabels'], axis=1)\n",
    "feature_vectors.describe()"
   ]
  },
  {
   "cell_type": "code",
   "execution_count": 12,
   "metadata": {
    "collapsed": false
   },
   "outputs": [],
   "source": [
    "from sklearn import preprocessing\n",
    "\n",
    "scaler = preprocessing.StandardScaler().fit(feature_vectors)\n",
    "scaled_features = scaler.transform(feature_vectors)"
   ]
  },
  {
   "cell_type": "code",
   "execution_count": 13,
   "metadata": {
    "collapsed": false
   },
   "outputs": [
    {
     "name": "stderr",
     "output_type": "stream",
     "text": [
      "/Users/lorenzoperozzi/anaconda3/lib/python3.5/site-packages/sklearn/cross_validation.py:44: DeprecationWarning: This module was deprecated in version 0.18 in favor of the model_selection module into which all the refactored classes and functions are moved. Also note that the interface of the new CV iterators are different from that of this module. This module will be removed in 0.20.\n",
      "  \"This module will be removed in 0.20.\", DeprecationWarning)\n"
     ]
    }
   ],
   "source": [
    "from sklearn.cross_validation import train_test_split\n",
    "\n",
    "X_train, X_test, y_train, y_test = train_test_split(\n",
    "        scaled_features, correct_facies_labels, test_size=0.3, random_state=42)"
   ]
  },
  {
   "cell_type": "markdown",
   "metadata": {},
   "source": [
    "## Training the SVM classifier\n",
    "\n",
    "Now we use the cleaned and conditioned training set to create a facies classifier.  As mentioned above, we will use a type of machine learning model known as a [support vector machine](https://en.wikipedia.org/wiki/Support_vector_machine).  The SVM is a map of the feature vectors as points in a multi dimensional space, mapped so that examples from different facies are divided by a clear gap that is as wide as possible."
   ]
  },
  {
   "cell_type": "markdown",
   "metadata": {},
   "source": [
    "### [Matt: I changed this to the LinearSVC as well; I am also setting a random state to ensure it shuffles the same every time.]"
   ]
  },
  {
   "cell_type": "code",
   "execution_count": 14,
   "metadata": {
    "collapsed": false
   },
   "outputs": [],
   "source": [
    "from sklearn import svm\n",
    "\n",
    "clf = svm.LinearSVC(random_state=42) "
   ]
  },
  {
   "cell_type": "markdown",
   "metadata": {},
   "source": [
    "Now we can train the classifier using the training set we created above."
   ]
  },
  {
   "cell_type": "code",
   "execution_count": 15,
   "metadata": {
    "collapsed": false
   },
   "outputs": [
    {
     "data": {
      "text/plain": [
       "LinearSVC(C=1.0, class_weight=None, dual=True, fit_intercept=True,\n",
       "     intercept_scaling=1, loss='squared_hinge', max_iter=1000,\n",
       "     multi_class='ovr', penalty='l2', random_state=42, tol=0.0001,\n",
       "     verbose=0)"
      ]
     },
     "execution_count": 15,
     "metadata": {},
     "output_type": "execute_result"
    }
   ],
   "source": [
    "clf.fit(X_train, y_train)"
   ]
  },
  {
   "cell_type": "code",
   "execution_count": 16,
   "metadata": {
    "collapsed": false
   },
   "outputs": [],
   "source": [
    "predicted_labels = clf.predict(X_test)"
   ]
  },
  {
   "cell_type": "code",
   "execution_count": 17,
   "metadata": {
    "collapsed": false
   },
   "outputs": [
    {
     "name": "stdout",
     "output_type": "stream",
     "text": [
      "     Pred    SS  CSiS  FSiS  SiSh    MS    WS     D    PS    BS Total\n",
      "     True\n",
      "       SS    26    30     2                                        58\n",
      "     CSiS         214    43                                   1   258\n",
      "     FSiS     2    81   107     1           1           2     4   198\n",
      "     SiSh           1     1    56          16          12          86\n",
      "       MS           2          15          29     2    24          72\n",
      "       WS     1                20          71          61     1   154\n",
      "        D                      10           2          29     1    42\n",
      "       PS           3     2    10          57     1   118     3   194\n",
      "       BS                       6           8          31     3    48\n",
      "\n",
      "Precision  0.90  0.65  0.69  0.47  0.00  0.39  0.00  0.43  0.23  0.49\n",
      "   Recall  0.45  0.83  0.54  0.65  0.00  0.46  0.00  0.61  0.06  0.54\n",
      "       F1  0.60  0.73  0.61  0.55  0.00  0.42  0.00  0.50  0.10  0.50\n"
     ]
    }
   ],
   "source": [
    "from sklearn.metrics import confusion_matrix\n",
    "from classification_utilities import display_cm, display_adj_cm\n",
    "\n",
    "conf = confusion_matrix(y_test, predicted_labels)\n",
    "display_cm(conf, facies_labels, display_metrics=True, hide_zeros=True)"
   ]
  },
  {
   "cell_type": "code",
   "execution_count": 18,
   "metadata": {
    "collapsed": false
   },
   "outputs": [],
   "source": [
    "def accuracy(conf):\n",
    "    total_correct = 0.\n",
    "    nb_classes = conf.shape[0]\n",
    "    for i in np.arange(0,nb_classes):\n",
    "        total_correct += conf[i][i]\n",
    "    acc = total_correct/sum(sum(conf))\n",
    "    return acc"
   ]
  },
  {
   "cell_type": "code",
   "execution_count": 19,
   "metadata": {
    "collapsed": false
   },
   "outputs": [],
   "source": [
    "adjacent_facies = np.array([[1], [0,2], [1], [4], [3,5], [4,6,7], [5,7], [5,6,8], [6,7]])\n",
    "\n",
    "def accuracy_adjacent(conf, adjacent_facies):\n",
    "    nb_classes = conf.shape[0]\n",
    "    total_correct = 0.\n",
    "    for i in np.arange(0,nb_classes):\n",
    "        total_correct += conf[i][i]\n",
    "        for j in adjacent_facies[i]:\n",
    "            total_correct += conf[i][j]\n",
    "    return total_correct / sum(sum(conf))"
   ]
  },
  {
   "cell_type": "code",
   "execution_count": 20,
   "metadata": {
    "collapsed": false
   },
   "outputs": [
    {
     "name": "stdout",
     "output_type": "stream",
     "text": [
      "Facies classification accuracy = 0.536036\n",
      "Adjacent facies classification accuracy = 0.880180\n"
     ]
    }
   ],
   "source": [
    "print('Facies classification accuracy = %f' % accuracy(conf))\n",
    "print('Adjacent facies classification accuracy = %f' % accuracy_adjacent(conf, adjacent_facies))"
   ]
  },
  {
   "cell_type": "markdown",
   "metadata": {},
   "source": [
    "## Model parameter selection\n",
    "\n",
    "The classifier so far has been built with the default parameters.  However, we may be able to get improved classification results with optimal parameter choices."
   ]
  },
  {
   "cell_type": "code",
   "execution_count": 21,
   "metadata": {
    "collapsed": false
   },
   "outputs": [],
   "source": [
    "#model selection takes a few minutes, change this variable\n",
    "#to true to run the parameter loop\n",
    "do_model_selection = False\n",
    "\n",
    "if do_model_selection:\n",
    "    C_range = np.array([.01, 1, 5, 10, 20, 50, 100, 1000, 5000, 10000])\n",
    "    gamma_range = np.array([0.0001, 0.001, 0.01, 0.1, 1, 10])\n",
    "    \n",
    "    fig, axes = plt.subplots(3, 2, \n",
    "                        sharex='col', sharey='row',figsize=(10,10))\n",
    "    plot_number = 0\n",
    "    for outer_ind, gamma_value in enumerate(gamma_range):\n",
    "        row = int(plot_number / 2)\n",
    "        column = int(plot_number % 2)\n",
    "        cv_errors = np.zeros(C_range.shape)\n",
    "        train_errors = np.zeros(C_range.shape)\n",
    "        for index, c_value in enumerate(C_range):\n",
    "            \n",
    "            clf = svm.SVC(C=c_value, gamma=gamma_value)\n",
    "            clf.fit(X_train,y_train)\n",
    "            \n",
    "            train_conf = confusion_matrix(y_train, clf.predict(X_train))\n",
    "            cv_conf = confusion_matrix(y_test, clf.predict(X_test))\n",
    "        \n",
    "            cv_errors[index] = accuracy(cv_conf)\n",
    "            train_errors[index] = accuracy(train_conf)\n",
    "\n",
    "        ax = axes[row, column]\n",
    "        ax.set_title('Gamma = %g'%gamma_value)\n",
    "        ax.semilogx(C_range, cv_errors, label='CV error')\n",
    "        ax.semilogx(C_range, train_errors, label='Train error')\n",
    "        plot_number += 1\n",
    "        ax.set_ylim([0.2,1])\n",
    "        \n",
    "    ax.legend(bbox_to_anchor=(1.05, 0), loc='lower left', borderaxespad=0.)\n",
    "    fig.text(0.5, 0.03, 'C value', ha='center',\n",
    "             fontsize=14)\n",
    "             \n",
    "    fig.text(0.04, 0.5, 'Classification Accuracy', va='center', \n",
    "             rotation='vertical', fontsize=14)"
   ]
  },
  {
   "cell_type": "markdown",
   "metadata": {},
   "source": [
    "The best accuracy on the cross validation error curve was achieved for `gamma = 1`, and `C = 10`.  We can now create and train an optimized classifier based on these parameters:"
   ]
  },
  {
   "cell_type": "code",
   "execution_count": 22,
   "metadata": {
    "collapsed": false
   },
   "outputs": [
    {
     "name": "stdout",
     "output_type": "stream",
     "text": [
      "Optimized facies classification accuracy = 0.74\n",
      "Optimized adjacent facies classification accuracy = 0.94\n"
     ]
    }
   ],
   "source": [
    "# clf = svm.LinearSVC(class_weight='balanced', tol=1e-03, random_state=42, C=10)    \n",
    "from sklearn import ensemble\n",
    "clf = ensemble.RandomForestClassifier(n_estimators=1000)\n",
    "# clf = ensemble.GradientBoostingClassifier(max_depth=15)\n",
    "clf.fit(X_train, y_train)\n",
    "\n",
    "cv_conf = confusion_matrix(y_test, clf.predict(X_test))\n",
    "\n",
    "print('Optimized facies classification accuracy = %.2f' % accuracy(cv_conf))\n",
    "print('Optimized adjacent facies classification accuracy = %.2f' % accuracy_adjacent(cv_conf, adjacent_facies))"
   ]
  },
  {
   "cell_type": "code",
   "execution_count": 23,
   "metadata": {
    "collapsed": false
   },
   "outputs": [
    {
     "name": "stdout",
     "output_type": "stream",
     "text": [
      "     Pred    SS  CSiS  FSiS  SiSh    MS    WS     D    PS    BS Total\n",
      "     True\n",
      "       SS    37    17     4                                        58\n",
      "     CSiS         218    40                                       258\n",
      "     FSiS          50   143     2                       3         198\n",
      "     SiSh           2          76     1     4     1     2          86\n",
      "       MS           2           6    36    18     3     7          72\n",
      "       WS           1          15     8    95     2    30     3   154\n",
      "        D                       3     1     1    27     8     2    42\n",
      "       PS           1     4     8     4    28     1   147     1   194\n",
      "       BS                                         4     5    39    48\n",
      "\n",
      "Precision  1.00  0.75  0.75  0.69  0.72  0.65  0.71  0.73  0.87  0.74\n",
      "   Recall  0.64  0.84  0.72  0.88  0.50  0.62  0.64  0.76  0.81  0.74\n",
      "       F1  0.78  0.79  0.74  0.78  0.59  0.63  0.67  0.74  0.84  0.73\n"
     ]
    }
   ],
   "source": [
    "display_cm(cv_conf, facies_labels, \n",
    "           display_metrics=True, hide_zeros=True)"
   ]
  },
  {
   "cell_type": "code",
   "execution_count": 24,
   "metadata": {
    "collapsed": false
   },
   "outputs": [
    {
     "name": "stdout",
     "output_type": "stream",
     "text": [
      "     Pred    SS  CSiS  FSiS  SiSh    MS    WS     D    PS    BS Total\n",
      "     True\n",
      "       SS    54           4                                        58\n",
      "     CSiS         258                                             258\n",
      "     FSiS               193     2                       3         198\n",
      "     SiSh           2          77           4     1     2          86\n",
      "       MS           2                60           3     7          72\n",
      "       WS           1          15         135                 3   154\n",
      "        D                       3     1          36           2    42\n",
      "       PS           1     4     8     4               177         194\n",
      "       BS                                                    48    48\n",
      "\n",
      "Precision  1.00  0.98  0.96  0.73  0.92  0.97  0.90  0.94  0.91  0.94\n",
      "   Recall  0.93  1.00  0.97  0.90  0.83  0.88  0.86  0.91  1.00  0.94\n",
      "       F1  0.96  0.99  0.97  0.81  0.88  0.92  0.88  0.92  0.95  0.94\n"
     ]
    }
   ],
   "source": [
    "display_adj_cm(cv_conf, facies_labels, adjacent_facies, \n",
    "           display_metrics=True, hide_zeros=True)"
   ]
  },
  {
   "cell_type": "markdown",
   "metadata": {},
   "source": [
    "## Applying the classification model to the blind data\n",
    "\n",
    "We held a well back from the training, and stored it in a dataframe called `blind`:"
   ]
  },
  {
   "cell_type": "code",
   "execution_count": 25,
   "metadata": {
    "collapsed": false
   },
   "outputs": [
    {
     "data": {
      "text/html": [
       "<div>\n",
       "<table border=\"1\" class=\"dataframe\">\n",
       "  <thead>\n",
       "    <tr style=\"text-align: right;\">\n",
       "      <th></th>\n",
       "      <th>Facies</th>\n",
       "      <th>Formation</th>\n",
       "      <th>Well Name</th>\n",
       "      <th>Depth</th>\n",
       "      <th>GR</th>\n",
       "      <th>ILD_log10</th>\n",
       "      <th>DeltaPHI</th>\n",
       "      <th>PHIND</th>\n",
       "      <th>PE</th>\n",
       "      <th>NM_M</th>\n",
       "      <th>RELPOS</th>\n",
       "    </tr>\n",
       "  </thead>\n",
       "  <tbody>\n",
       "    <tr>\n",
       "      <th>937</th>\n",
       "      <td>2</td>\n",
       "      <td>A1 SH</td>\n",
       "      <td>SHANKLE</td>\n",
       "      <td>2774.5</td>\n",
       "      <td>98.36</td>\n",
       "      <td>0.642</td>\n",
       "      <td>-0.1</td>\n",
       "      <td>18.685</td>\n",
       "      <td>2.9</td>\n",
       "      <td>1</td>\n",
       "      <td>1.000</td>\n",
       "    </tr>\n",
       "    <tr>\n",
       "      <th>938</th>\n",
       "      <td>2</td>\n",
       "      <td>A1 SH</td>\n",
       "      <td>SHANKLE</td>\n",
       "      <td>2775.0</td>\n",
       "      <td>97.57</td>\n",
       "      <td>0.631</td>\n",
       "      <td>7.9</td>\n",
       "      <td>16.745</td>\n",
       "      <td>3.2</td>\n",
       "      <td>1</td>\n",
       "      <td>0.984</td>\n",
       "    </tr>\n",
       "    <tr>\n",
       "      <th>939</th>\n",
       "      <td>2</td>\n",
       "      <td>A1 SH</td>\n",
       "      <td>SHANKLE</td>\n",
       "      <td>2775.5</td>\n",
       "      <td>98.41</td>\n",
       "      <td>0.615</td>\n",
       "      <td>12.8</td>\n",
       "      <td>14.105</td>\n",
       "      <td>3.2</td>\n",
       "      <td>1</td>\n",
       "      <td>0.968</td>\n",
       "    </tr>\n",
       "    <tr>\n",
       "      <th>940</th>\n",
       "      <td>2</td>\n",
       "      <td>A1 SH</td>\n",
       "      <td>SHANKLE</td>\n",
       "      <td>2776.0</td>\n",
       "      <td>85.92</td>\n",
       "      <td>0.597</td>\n",
       "      <td>13.0</td>\n",
       "      <td>13.385</td>\n",
       "      <td>3.4</td>\n",
       "      <td>1</td>\n",
       "      <td>0.952</td>\n",
       "    </tr>\n",
       "    <tr>\n",
       "      <th>941</th>\n",
       "      <td>2</td>\n",
       "      <td>A1 SH</td>\n",
       "      <td>SHANKLE</td>\n",
       "      <td>2776.5</td>\n",
       "      <td>83.16</td>\n",
       "      <td>0.592</td>\n",
       "      <td>12.3</td>\n",
       "      <td>13.345</td>\n",
       "      <td>3.4</td>\n",
       "      <td>1</td>\n",
       "      <td>0.935</td>\n",
       "    </tr>\n",
       "    <tr>\n",
       "      <th>...</th>\n",
       "      <td>...</td>\n",
       "      <td>...</td>\n",
       "      <td>...</td>\n",
       "      <td>...</td>\n",
       "      <td>...</td>\n",
       "      <td>...</td>\n",
       "      <td>...</td>\n",
       "      <td>...</td>\n",
       "      <td>...</td>\n",
       "      <td>...</td>\n",
       "      <td>...</td>\n",
       "    </tr>\n",
       "    <tr>\n",
       "      <th>1381</th>\n",
       "      <td>8</td>\n",
       "      <td>C LM</td>\n",
       "      <td>SHANKLE</td>\n",
       "      <td>3006.0</td>\n",
       "      <td>32.84</td>\n",
       "      <td>1.120</td>\n",
       "      <td>-2.2</td>\n",
       "      <td>3.455</td>\n",
       "      <td>5.1</td>\n",
       "      <td>2</td>\n",
       "      <td>0.060</td>\n",
       "    </tr>\n",
       "    <tr>\n",
       "      <th>1382</th>\n",
       "      <td>8</td>\n",
       "      <td>C LM</td>\n",
       "      <td>SHANKLE</td>\n",
       "      <td>3006.5</td>\n",
       "      <td>25.16</td>\n",
       "      <td>1.112</td>\n",
       "      <td>-1.6</td>\n",
       "      <td>2.890</td>\n",
       "      <td>4.8</td>\n",
       "      <td>2</td>\n",
       "      <td>0.045</td>\n",
       "    </tr>\n",
       "    <tr>\n",
       "      <th>1383</th>\n",
       "      <td>8</td>\n",
       "      <td>C LM</td>\n",
       "      <td>SHANKLE</td>\n",
       "      <td>3007.0</td>\n",
       "      <td>25.16</td>\n",
       "      <td>1.112</td>\n",
       "      <td>-1.6</td>\n",
       "      <td>2.890</td>\n",
       "      <td>4.8</td>\n",
       "      <td>2</td>\n",
       "      <td>0.030</td>\n",
       "    </tr>\n",
       "    <tr>\n",
       "      <th>1384</th>\n",
       "      <td>4</td>\n",
       "      <td>C LM</td>\n",
       "      <td>SHANKLE</td>\n",
       "      <td>3007.5</td>\n",
       "      <td>26.22</td>\n",
       "      <td>1.092</td>\n",
       "      <td>-0.4</td>\n",
       "      <td>3.400</td>\n",
       "      <td>4.5</td>\n",
       "      <td>2</td>\n",
       "      <td>0.030</td>\n",
       "    </tr>\n",
       "    <tr>\n",
       "      <th>1385</th>\n",
       "      <td>4</td>\n",
       "      <td>C LM</td>\n",
       "      <td>SHANKLE</td>\n",
       "      <td>3008.0</td>\n",
       "      <td>65.36</td>\n",
       "      <td>1.026</td>\n",
       "      <td>1.6</td>\n",
       "      <td>4.715</td>\n",
       "      <td>4.5</td>\n",
       "      <td>2</td>\n",
       "      <td>0.015</td>\n",
       "    </tr>\n",
       "  </tbody>\n",
       "</table>\n",
       "<p>449 rows × 11 columns</p>\n",
       "</div>"
      ],
      "text/plain": [
       "      Facies Formation Well Name   Depth     GR  ILD_log10  DeltaPHI   PHIND  \\\n",
       "937        2     A1 SH   SHANKLE  2774.5  98.36      0.642      -0.1  18.685   \n",
       "938        2     A1 SH   SHANKLE  2775.0  97.57      0.631       7.9  16.745   \n",
       "939        2     A1 SH   SHANKLE  2775.5  98.41      0.615      12.8  14.105   \n",
       "940        2     A1 SH   SHANKLE  2776.0  85.92      0.597      13.0  13.385   \n",
       "941        2     A1 SH   SHANKLE  2776.5  83.16      0.592      12.3  13.345   \n",
       "...      ...       ...       ...     ...    ...        ...       ...     ...   \n",
       "1381       8      C LM   SHANKLE  3006.0  32.84      1.120      -2.2   3.455   \n",
       "1382       8      C LM   SHANKLE  3006.5  25.16      1.112      -1.6   2.890   \n",
       "1383       8      C LM   SHANKLE  3007.0  25.16      1.112      -1.6   2.890   \n",
       "1384       4      C LM   SHANKLE  3007.5  26.22      1.092      -0.4   3.400   \n",
       "1385       4      C LM   SHANKLE  3008.0  65.36      1.026       1.6   4.715   \n",
       "\n",
       "       PE  NM_M  RELPOS  \n",
       "937   2.9     1   1.000  \n",
       "938   3.2     1   0.984  \n",
       "939   3.2     1   0.968  \n",
       "940   3.4     1   0.952  \n",
       "941   3.4     1   0.935  \n",
       "...   ...   ...     ...  \n",
       "1381  5.1     2   0.060  \n",
       "1382  4.8     2   0.045  \n",
       "1383  4.8     2   0.030  \n",
       "1384  4.5     2   0.030  \n",
       "1385  4.5     2   0.015  \n",
       "\n",
       "[449 rows x 11 columns]"
      ]
     },
     "execution_count": 25,
     "metadata": {},
     "output_type": "execute_result"
    }
   ],
   "source": [
    "blind"
   ]
  },
  {
   "cell_type": "markdown",
   "metadata": {},
   "source": [
    "The label vector is just the `Facies` column:"
   ]
  },
  {
   "cell_type": "code",
   "execution_count": 26,
   "metadata": {
    "collapsed": false
   },
   "outputs": [
    {
     "data": {
      "text/plain": [
       "array([1, 2, 3, 4, 5, 6, 7, 8])"
      ]
     },
     "execution_count": 26,
     "metadata": {},
     "output_type": "execute_result"
    }
   ],
   "source": [
    "y_blind = blind['Facies'].values\n",
    "np.unique(y_blind)"
   ]
  },
  {
   "cell_type": "markdown",
   "metadata": {},
   "source": [
    "We can form the feature matrix by dropping some of the columns and making a new dataframe:"
   ]
  },
  {
   "cell_type": "code",
   "execution_count": 27,
   "metadata": {
    "collapsed": false
   },
   "outputs": [],
   "source": [
    "well_features = blind.drop(['Facies', 'Formation', 'Well Name', 'Depth'], axis=1)"
   ]
  },
  {
   "cell_type": "markdown",
   "metadata": {},
   "source": [
    "Now we can transform this with the scaler we made before:"
   ]
  },
  {
   "cell_type": "code",
   "execution_count": 28,
   "metadata": {
    "collapsed": false
   },
   "outputs": [],
   "source": [
    "X_blind = scaler.transform(well_features)"
   ]
  },
  {
   "cell_type": "markdown",
   "metadata": {},
   "source": [
    "Now it's a simple matter of making a prediction and storing it back in the dataframe:"
   ]
  },
  {
   "cell_type": "code",
   "execution_count": 29,
   "metadata": {
    "collapsed": false
   },
   "outputs": [],
   "source": [
    "y_pred = clf.predict(X_blind)\n",
    "blind['Prediction'] = y_pred"
   ]
  },
  {
   "cell_type": "markdown",
   "metadata": {},
   "source": [
    "Let's see how we did with the confusion matrix:"
   ]
  },
  {
   "cell_type": "code",
   "execution_count": 31,
   "metadata": {
    "collapsed": false
   },
   "outputs": [
    {
     "name": "stdout",
     "output_type": "stream",
     "text": [
      "Optimized facies classification accuracy = 0.516704\n",
      "Optimized facies classification precision = 0.567907\n",
      "Optimized facies classification recall = 0.516704\n",
      "Optimized facies classification f1-score = 0.516704\n",
      "             precision    recall  f1-score   support\n",
      "\n",
      "         SS       0.50      0.09      0.15        89\n",
      "       CSiS       0.37      0.80      0.51        89\n",
      "       FSiS       0.83      0.62      0.71       117\n",
      "       SiSh       0.07      0.14      0.09         7\n",
      "         MS       0.00      0.00      0.00        19\n",
      "         WS       0.73      0.63      0.68        71\n",
      "          D       0.64      0.41      0.50        17\n",
      "         PS       0.44      0.68      0.53        40\n",
      "\n",
      "avg / total       0.57      0.52      0.49       449\n",
      "\n"
     ]
    }
   ],
   "source": [
    "cv_conf = confusion_matrix(y_blind, y_pred)\n",
    "\n",
    "# print('Optimized facies classification accuracy = %.2f' % accuracy(cv_conf))\n",
    "# print('Optimized adjacent facies classification accuracy = %.2f' % accuracy_adjacent(cv_conf, adjacent_facies))\n",
    "\n",
    "from sklearn import metrics\n",
    "print('Optimized facies classification accuracy = {0:2f}'.format(metrics.accuracy_score(y_blind, y_pred)))\n",
    "print('Optimized facies classification precision = {0:2f}'.format(metrics.precision_score(y_blind, y_pred, average='weighted')))\n",
    "print('Optimized facies classification recall = {0:2f}'.format(metrics.recall_score(y_blind, y_pred, average='weighted')))\n",
    "print('Optimized facies classification f1-score = {0:2f}'.format(metrics.f1_score(y_blind, y_pred, average='micro')))\n",
    "print(metrics.classification_report(y_blind, y_pred, target_names=facies_labels))\n"
   ]
  },
  {
   "cell_type": "markdown",
   "metadata": {},
   "source": [
    "We managed 0.75 using the test data, but it was from the same wells as the training data. This more reasonable test does not perform as well..."
   ]
  },
  {
   "cell_type": "code",
   "execution_count": 33,
   "metadata": {
    "collapsed": false
   },
   "outputs": [
    {
     "name": "stdout",
     "output_type": "stream",
     "text": [
      "     Pred    SS  CSiS  FSiS  SiSh    MS    WS     D    PS    BS Total\n",
      "     True\n",
      "       SS     8    77     4     0     0     0     0     0 "
     ]
    },
    {
     "ename": "IndexError",
     "evalue": "index 8 is out of bounds for axis 1 with size 8",
     "output_type": "error",
     "traceback": [
      "\u001b[0;31m---------------------------------------------------------------------------\u001b[0m",
      "\u001b[0;31mIndexError\u001b[0m                                Traceback (most recent call last)",
      "\u001b[0;32m<ipython-input-33-7af39b444a28>\u001b[0m in \u001b[0;36m<module>\u001b[0;34m()\u001b[0m\n\u001b[1;32m      1\u001b[0m display_cm(cv_conf, facies_labels,\n\u001b[0;32m----> 2\u001b[0;31m            display_metrics=True, hide_zeros=False)\n\u001b[0m",
      "\u001b[0;32m/Users/lorenzoperozzi/Dropbox/POSTDOC/2016-ml-contest_liamlearn/CannedGeo_/classification_utilities.py\u001b[0m in \u001b[0;36mdisplay_cm\u001b[0;34m(cm, labels, hide_zeros, display_metrics)\u001b[0m\n\u001b[1;32m     36\u001b[0m         \u001b[0mprint\u001b[0m\u001b[0;34m(\u001b[0m\u001b[0;34m\"    %{0}s\"\u001b[0m\u001b[0;34m.\u001b[0m\u001b[0mformat\u001b[0m\u001b[0;34m(\u001b[0m\u001b[0mcolumnwidth\u001b[0m\u001b[0;34m)\u001b[0m \u001b[0;34m%\u001b[0m \u001b[0mlabel1\u001b[0m\u001b[0;34m,\u001b[0m \u001b[0mend\u001b[0m\u001b[0;34m=\u001b[0m\u001b[0;34m' '\u001b[0m\u001b[0;34m)\u001b[0m\u001b[0;34m\u001b[0m\u001b[0m\n\u001b[1;32m     37\u001b[0m         \u001b[0;32mfor\u001b[0m \u001b[0mj\u001b[0m \u001b[0;32min\u001b[0m \u001b[0mrange\u001b[0m\u001b[0;34m(\u001b[0m\u001b[0mlen\u001b[0m\u001b[0;34m(\u001b[0m\u001b[0mlabels\u001b[0m\u001b[0;34m)\u001b[0m\u001b[0;34m)\u001b[0m\u001b[0;34m:\u001b[0m\u001b[0;34m\u001b[0m\u001b[0m\n\u001b[0;32m---> 38\u001b[0;31m             \u001b[0mcell\u001b[0m \u001b[0;34m=\u001b[0m \u001b[0;34m\"%{0}d\"\u001b[0m\u001b[0;34m.\u001b[0m\u001b[0mformat\u001b[0m\u001b[0;34m(\u001b[0m\u001b[0mcolumnwidth\u001b[0m\u001b[0;34m)\u001b[0m \u001b[0;34m%\u001b[0m \u001b[0mcm\u001b[0m\u001b[0;34m[\u001b[0m\u001b[0mi\u001b[0m\u001b[0;34m,\u001b[0m \u001b[0mj\u001b[0m\u001b[0;34m]\u001b[0m\u001b[0;34m\u001b[0m\u001b[0m\n\u001b[0m\u001b[1;32m     39\u001b[0m             \u001b[0;32mif\u001b[0m \u001b[0mhide_zeros\u001b[0m\u001b[0;34m:\u001b[0m\u001b[0;34m\u001b[0m\u001b[0m\n\u001b[1;32m     40\u001b[0m                 \u001b[0mcell\u001b[0m \u001b[0;34m=\u001b[0m \u001b[0mcell\u001b[0m \u001b[0;32mif\u001b[0m \u001b[0mfloat\u001b[0m\u001b[0;34m(\u001b[0m\u001b[0mcm\u001b[0m\u001b[0;34m[\u001b[0m\u001b[0mi\u001b[0m\u001b[0;34m,\u001b[0m \u001b[0mj\u001b[0m\u001b[0;34m]\u001b[0m\u001b[0;34m)\u001b[0m \u001b[0;34m!=\u001b[0m \u001b[0;36m0\u001b[0m \u001b[0;32melse\u001b[0m \u001b[0mempty_cell\u001b[0m\u001b[0;34m\u001b[0m\u001b[0m\n",
      "\u001b[0;31mIndexError\u001b[0m: index 8 is out of bounds for axis 1 with size 8"
     ]
    }
   ],
   "source": [
    "display_cm(cv_conf, facies_labels,\n",
    "           display_metrics=True, hide_zeros=True)"
   ]
  },
  {
   "cell_type": "markdown",
   "metadata": {},
   "source": [
    "...but does remarkably well on the adjacent facies predictions. "
   ]
  },
  {
   "cell_type": "code",
   "execution_count": null,
   "metadata": {
    "collapsed": false
   },
   "outputs": [],
   "source": [
    "display_adj_cm(cv_conf, facies_labels, adjacent_facies,\n",
    "               display_metrics=True, hide_zeros=True)"
   ]
  },
  {
   "cell_type": "code",
   "execution_count": null,
   "metadata": {
    "collapsed": true
   },
   "outputs": [],
   "source": [
    "def compare_facies_plot(logs, compadre, facies_colors):\n",
    "    #make sure logs are sorted by depth\n",
    "    logs = logs.sort_values(by='Depth')\n",
    "    cmap_facies = colors.ListedColormap(\n",
    "            facies_colors[0:len(facies_colors)], 'indexed')\n",
    "    \n",
    "    ztop=logs.Depth.min(); zbot=logs.Depth.max()\n",
    "    \n",
    "    cluster1 = np.repeat(np.expand_dims(logs['Facies'].values,1), 100, 1)\n",
    "    cluster2 = np.repeat(np.expand_dims(logs[compadre].values,1), 100, 1)\n",
    "    \n",
    "    f, ax = plt.subplots(nrows=1, ncols=7, figsize=(9, 12))\n",
    "    ax[0].plot(logs.GR, logs.Depth, '-g')\n",
    "    ax[1].plot(logs.ILD_log10, logs.Depth, '-')\n",
    "    ax[2].plot(logs.DeltaPHI, logs.Depth, '-', color='0.5')\n",
    "    ax[3].plot(logs.PHIND, logs.Depth, '-', color='r')\n",
    "    ax[4].plot(logs.PE, logs.Depth, '-', color='black')\n",
    "    im1 = ax[5].imshow(cluster1, interpolation='none', aspect='auto',\n",
    "                    cmap=cmap_facies,vmin=1,vmax=9)\n",
    "    im2 = ax[6].imshow(cluster2, interpolation='none', aspect='auto',\n",
    "                    cmap=cmap_facies,vmin=1,vmax=9)\n",
    "    \n",
    "    divider = make_axes_locatable(ax[6])\n",
    "    cax = divider.append_axes(\"right\", size=\"20%\", pad=0.05)\n",
    "    cbar=plt.colorbar(im2, cax=cax)\n",
    "    cbar.set_label((17*' ').join([' SS ', 'CSiS', 'FSiS', \n",
    "                                'SiSh', ' MS ', ' WS ', ' D  ', \n",
    "                                ' PS ', ' BS ']))\n",
    "    cbar.set_ticks(range(0,1)); cbar.set_ticklabels('')\n",
    "    \n",
    "    for i in range(len(ax)-2):\n",
    "        ax[i].set_ylim(ztop,zbot)\n",
    "        ax[i].invert_yaxis()\n",
    "        ax[i].grid()\n",
    "        ax[i].locator_params(axis='x', nbins=3)\n",
    "    \n",
    "    ax[0].set_xlabel(\"GR\")\n",
    "    ax[0].set_xlim(logs.GR.min(),logs.GR.max())\n",
    "    ax[1].set_xlabel(\"ILD_log10\")\n",
    "    ax[1].set_xlim(logs.ILD_log10.min(),logs.ILD_log10.max())\n",
    "    ax[2].set_xlabel(\"DeltaPHI\")\n",
    "    ax[2].set_xlim(logs.DeltaPHI.min(),logs.DeltaPHI.max())\n",
    "    ax[3].set_xlabel(\"PHIND\")\n",
    "    ax[3].set_xlim(logs.PHIND.min(),logs.PHIND.max())\n",
    "    ax[4].set_xlabel(\"PE\")\n",
    "    ax[4].set_xlim(logs.PE.min(),logs.PE.max())\n",
    "    ax[5].set_xlabel('Facies')\n",
    "    ax[6].set_xlabel(compadre)\n",
    "    \n",
    "    ax[1].set_yticklabels([]); ax[2].set_yticklabels([]); ax[3].set_yticklabels([])\n",
    "    ax[4].set_yticklabels([]); ax[5].set_yticklabels([])\n",
    "    ax[5].set_xticklabels([])\n",
    "    ax[6].set_xticklabels([])\n",
    "    f.suptitle('Well: %s'%logs.iloc[0]['Well Name'], fontsize=14,y=0.94)"
   ]
  },
  {
   "cell_type": "code",
   "execution_count": null,
   "metadata": {
    "collapsed": false
   },
   "outputs": [],
   "source": [
    "compare_facies_plot(blind, 'Prediction', facies_colors)"
   ]
  },
  {
   "cell_type": "markdown",
   "metadata": {},
   "source": [
    "## Applying the classification model to new data\n",
    "\n",
    "Now that we have a trained facies classification model we can use it to identify facies in wells that do not have core data.  In this case, we will apply the classifier to two wells, but we could use it on any number of wells for which we have the same set of well logs for input.\n",
    "\n",
    "This dataset is similar to the training data except it does not have facies labels.  It is loaded into a dataframe called `test_data`."
   ]
  },
  {
   "cell_type": "code",
   "execution_count": null,
   "metadata": {
    "collapsed": false
   },
   "outputs": [],
   "source": [
    "well_data = pd.read_csv('../data/validation_data_nofacies.csv')\n",
    "well_data['Well Name'] = well_data['Well Name'].astype('category')\n",
    "well_features = well_data.drop(['Formation', 'Well Name', 'Depth'], axis=1)"
   ]
  },
  {
   "cell_type": "markdown",
   "metadata": {},
   "source": [
    "The data needs to be scaled using the same constants we used for the training data."
   ]
  },
  {
   "cell_type": "code",
   "execution_count": null,
   "metadata": {
    "collapsed": true
   },
   "outputs": [],
   "source": [
    "X_unknown = scaler.transform(well_features)"
   ]
  },
  {
   "cell_type": "markdown",
   "metadata": {},
   "source": [
    "Finally we predict facies labels for the unknown data, and store the results in a `Facies` column of the `test_data` dataframe."
   ]
  },
  {
   "cell_type": "code",
   "execution_count": null,
   "metadata": {
    "collapsed": false
   },
   "outputs": [],
   "source": [
    "#predict facies of unclassified data\n",
    "y_unknown = clf.predict(X_unknown)\n",
    "well_data['Facies'] = y_unknown\n",
    "well_data"
   ]
  },
  {
   "cell_type": "code",
   "execution_count": null,
   "metadata": {
    "collapsed": false
   },
   "outputs": [],
   "source": [
    "well_data['Well Name'].unique()"
   ]
  },
  {
   "cell_type": "markdown",
   "metadata": {},
   "source": [
    "We can use the well log plot to view the classification results along with the well logs."
   ]
  },
  {
   "cell_type": "code",
   "execution_count": null,
   "metadata": {
    "collapsed": true
   },
   "outputs": [],
   "source": [
    "well_data.to_csv('well_data_with_facies.csv')"
   ]
  },
  {
   "cell_type": "code",
   "execution_count": null,
   "metadata": {
    "collapsed": true
   },
   "outputs": [],
   "source": []
  }
 ],
 "metadata": {
  "anaconda-cloud": {},
  "kernelspec": {
   "display_name": "Python [Root]",
   "language": "python",
   "name": "Python [Root]"
  },
  "language_info": {
   "codemirror_mode": {
    "name": "ipython",
    "version": 3
   },
   "file_extension": ".py",
   "mimetype": "text/x-python",
   "name": "python",
   "nbconvert_exporter": "python",
   "pygments_lexer": "ipython3",
   "version": "3.5.2"
  }
 },
 "nbformat": 4,
 "nbformat_minor": 0
}

{
 "cells": [
  {
   "cell_type": "code",
   "execution_count": 11,
   "metadata": {
    "collapsed": false
   },
   "outputs": [
    {
     "name": "stdout",
     "output_type": "stream",
     "text": [
      "(4149, 11)\n"
     ]
    }
   ],
   "source": [
    "%matplotlib inline\n",
    "\n",
    "import warnings\n",
    "warnings.filterwarnings('ignore')\n",
    "\n",
    "import pandas as pd\n",
    "import numpy as np\n",
    "import matplotlib as mpl\n",
    "import matplotlib.pyplot as plt\n",
    "import matplotlib.colors as colors\n",
    "from mpl_toolkits.axes_grid1 import make_axes_locatable\n",
    "import seaborn as sns\n",
    "\n",
    "from pandas import set_option\n",
    "# set_option(\"display.max_rows\", 10)\n",
    "pd.options.mode.chained_assignment = None\n",
    "\n",
    "###### Import packages needed for the make_vars functions\n",
    "from scipy.interpolate import interp1d\n",
    "import pywt\n",
    "\n",
    "##### import stuff from scikit learn\n",
    "from sklearn.svm import SVC\n",
    "from sklearn.model_selection import GridSearchCV, LeaveOneGroupOut, cross_val_score\n",
    "from sklearn.pipeline import make_pipeline\n",
    "from sklearn.preprocessing import StandardScaler\n",
    "\n",
    "filename = 'data/facies_vectors.csv'\n",
    "training_data = pd.read_csv(filename)\n",
    "training_data.head()\n",
    "print (training_data.shape)"
   ]
  },
  {
   "cell_type": "code",
   "execution_count": 2,
   "metadata": {
    "collapsed": false
   },
   "outputs": [
    {
     "name": "stdout",
     "output_type": "stream",
     "text": [
      "(3232, 11)\n"
     ]
    }
   ],
   "source": [
    "training_data.dropna(inplace=True)\n",
    "print (training_data.shape)"
   ]
  },
  {
   "cell_type": "code",
   "execution_count": 3,
   "metadata": {
    "collapsed": true
   },
   "outputs": [],
   "source": [
    "def make_dwt_vars_cA(wells_df,logs,levels,wavelet):\n",
    "\n",
    "    wave= pywt.Wavelet(wavelet)\n",
    "    max_level = max(levels)\n",
    "    \n",
    "    grouped = wells_df.groupby(['Well Name'])\n",
    "    new_df = pd.DataFrame()\n",
    "    for key in grouped.groups.keys():\n",
    "    \n",
    "        depth = grouped.get_group(key)['Depth']\n",
    "        temp_df = pd.DataFrame()\n",
    "        temp_df['Depth'] = depth\n",
    "        for log in logs:\n",
    "      \n",
    "            temp_data = grouped.get_group(key)[log]\n",
    "              \n",
    "            for i in levels:\n",
    "                \n",
    "                    cA_cD = pywt.wavedec(temp_data,wave,level=i,mode='symmetric')\n",
    "                    cA = cA_cD[0]\n",
    "                    new_depth = np.linspace(min(depth),max(depth),len(cA))\n",
    "                    fA = interp1d(new_depth,cA,kind='nearest')\n",
    "                    #temp_df[log + '_cD_step_level_' + str(i)] = fD(depth)\n",
    "                    temp_df[log + '_cA_level_' + str(i)] = fA(depth)\n",
    "    \n",
    "        temp_df['Well Name'] = [key for _ in range(len(depth))]\n",
    "        new_df = new_df.append(temp_df)\n",
    "        \n",
    "    new_df = new_df.sort_index()\n",
    "    new_df = new_df.drop(['Well Name','Depth'],axis=1)\n",
    "    wells_df = wells_df[['Facies', 'Formation', 'Well Name', 'Depth', 'NM_M', 'RELPOS']]\n",
    "    return pd.concat([wells_df, new_df],axis=1)"
   ]
  },
  {
   "cell_type": "code",
   "execution_count": 4,
   "metadata": {
    "collapsed": false
   },
   "outputs": [
    {
     "name": "stdout",
     "output_type": "stream",
     "text": [
      "(3232, 11)\n"
     ]
    },
    {
     "data": {
      "text/html": [
       "<div>\n",
       "<table border=\"1\" class=\"dataframe\">\n",
       "  <thead>\n",
       "    <tr style=\"text-align: right;\">\n",
       "      <th></th>\n",
       "      <th>Facies</th>\n",
       "      <th>Formation</th>\n",
       "      <th>Well Name</th>\n",
       "      <th>Depth</th>\n",
       "      <th>NM_M</th>\n",
       "      <th>RELPOS</th>\n",
       "      <th>GR_cA_level_1</th>\n",
       "      <th>ILD_log10_cA_level_1</th>\n",
       "      <th>DeltaPHI_cA_level_1</th>\n",
       "      <th>PE_cA_level_1</th>\n",
       "      <th>PHIND_cA_level_1</th>\n",
       "    </tr>\n",
       "  </thead>\n",
       "  <tbody>\n",
       "    <tr>\n",
       "      <th>0</th>\n",
       "      <td>3</td>\n",
       "      <td>A1 SH</td>\n",
       "      <td>SHRIMPLIN</td>\n",
       "      <td>2793.0</td>\n",
       "      <td>1</td>\n",
       "      <td>1.000</td>\n",
       "      <td>114.100501</td>\n",
       "      <td>0.929717</td>\n",
       "      <td>21.414111</td>\n",
       "      <td>5.085001</td>\n",
       "      <td>18.487199</td>\n",
       "    </tr>\n",
       "    <tr>\n",
       "      <th>1</th>\n",
       "      <td>3</td>\n",
       "      <td>A1 SH</td>\n",
       "      <td>SHRIMPLIN</td>\n",
       "      <td>2793.5</td>\n",
       "      <td>1</td>\n",
       "      <td>0.979</td>\n",
       "      <td>109.858946</td>\n",
       "      <td>0.938640</td>\n",
       "      <td>14.572893</td>\n",
       "      <td>6.453245</td>\n",
       "      <td>16.924129</td>\n",
       "    </tr>\n",
       "    <tr>\n",
       "      <th>2</th>\n",
       "      <td>3</td>\n",
       "      <td>A1 SH</td>\n",
       "      <td>SHRIMPLIN</td>\n",
       "      <td>2794.0</td>\n",
       "      <td>1</td>\n",
       "      <td>0.957</td>\n",
       "      <td>109.858946</td>\n",
       "      <td>0.938640</td>\n",
       "      <td>14.572893</td>\n",
       "      <td>6.453245</td>\n",
       "      <td>16.924129</td>\n",
       "    </tr>\n",
       "    <tr>\n",
       "      <th>3</th>\n",
       "      <td>3</td>\n",
       "      <td>A1 SH</td>\n",
       "      <td>SHRIMPLIN</td>\n",
       "      <td>2794.5</td>\n",
       "      <td>1</td>\n",
       "      <td>0.936</td>\n",
       "      <td>109.875010</td>\n",
       "      <td>0.935539</td>\n",
       "      <td>19.020543</td>\n",
       "      <td>5.857874</td>\n",
       "      <td>17.668228</td>\n",
       "    </tr>\n",
       "    <tr>\n",
       "      <th>4</th>\n",
       "      <td>3</td>\n",
       "      <td>A1 SH</td>\n",
       "      <td>SHRIMPLIN</td>\n",
       "      <td>2795.0</td>\n",
       "      <td>1</td>\n",
       "      <td>0.915</td>\n",
       "      <td>109.875010</td>\n",
       "      <td>0.935539</td>\n",
       "      <td>19.020543</td>\n",
       "      <td>5.857874</td>\n",
       "      <td>17.668228</td>\n",
       "    </tr>\n",
       "  </tbody>\n",
       "</table>\n",
       "</div>"
      ],
      "text/plain": [
       "   Facies Formation  Well Name   Depth  NM_M  RELPOS  GR_cA_level_1  \\\n",
       "0       3     A1 SH  SHRIMPLIN  2793.0     1   1.000     114.100501   \n",
       "1       3     A1 SH  SHRIMPLIN  2793.5     1   0.979     109.858946   \n",
       "2       3     A1 SH  SHRIMPLIN  2794.0     1   0.957     109.858946   \n",
       "3       3     A1 SH  SHRIMPLIN  2794.5     1   0.936     109.875010   \n",
       "4       3     A1 SH  SHRIMPLIN  2795.0     1   0.915     109.875010   \n",
       "\n",
       "   ILD_log10_cA_level_1  DeltaPHI_cA_level_1  PE_cA_level_1  PHIND_cA_level_1  \n",
       "0              0.929717            21.414111       5.085001         18.487199  \n",
       "1              0.938640            14.572893       6.453245         16.924129  \n",
       "2              0.938640            14.572893       6.453245         16.924129  \n",
       "3              0.935539            19.020543       5.857874         17.668228  \n",
       "4              0.935539            19.020543       5.857874         17.668228  "
      ]
     },
     "execution_count": 4,
     "metadata": {},
     "output_type": "execute_result"
    }
   ],
   "source": [
    "##### cA From wavelet db3\n",
    "dwt_db3_cA_df = make_dwt_vars_cA(wells_df=training_data, logs=['GR', 'ILD_log10', 'DeltaPHI', 'PE', 'PHIND'],\n",
    "                       levels=[1], wavelet='db3')\n",
    "print (dwt_db3_cA_df.shape)\n",
    "dwt_db3_cA_df.head(5)"
   ]
  },
  {
   "cell_type": "code",
   "execution_count": 5,
   "metadata": {
    "collapsed": false
   },
   "outputs": [],
   "source": [
    "###### create predictor and target arrays\n",
    "X = dwt_db3_cA_df.iloc[:, 4:]\n",
    "y = dwt_db3_cA_df['Facies']\n",
    "groups = dwt_db3_cA_df['Well Name']"
   ]
  },
  {
   "cell_type": "code",
   "execution_count": 6,
   "metadata": {
    "collapsed": true
   },
   "outputs": [],
   "source": [
    "from matplotlib.colors import Normalize\n",
    "\n",
    "\n",
    "class MidpointNormalize(Normalize):\n",
    "\n",
    "    def __init__(self, vmin=None, vmax=None, midpoint=None, clip=False):\n",
    "        self.midpoint = midpoint\n",
    "        Normalize.__init__(self, vmin, vmax, clip)\n",
    "\n",
    "    def __call__(self, value, clip=None):\n",
    "        x, y = [self.vmin, self.midpoint, self.vmax], [0, 0.5, 1]\n",
    "        return np.ma.masked_array(np.interp(value, x, y))"
   ]
  },
  {
   "cell_type": "code",
   "execution_count": 7,
   "metadata": {
    "collapsed": false
   },
   "outputs": [
    {
     "name": "stdout",
     "output_type": "stream",
     "text": [
      "# Tuning hyper-parameters for f1_score\n",
      "Best parameters set found on development set:\n",
      "{'svc__gamma': 1.0000000000000001e-05, 'svc__C': 10000000.0}\n",
      "Score: 0.466\n",
      "\n"
     ]
    },
    {
     "name": "stderr",
     "output_type": "stream",
     "text": [
      "C:\\Anaconda\\lib\\site-packages\\sklearn\\model_selection\\_search.py:662: DeprecationWarning: The grid_scores_ attribute was deprecated in version 0.18 in favor of the more elaborate cv_results_ attribute. The grid_scores_ attribute will not be available from 0.20\n",
      "  DeprecationWarning)\n"
     ]
    }
   ],
   "source": [
    "C_range = 10.0 ** np.arange(0, 10)\n",
    "gamma_range= 10.0 ** np.arange(-10, 0)\n",
    "param_grid = dict(svc__C=C_range, svc__gamma=gamma_range)\n",
    "SVM = make_pipeline(StandardScaler(), SVC())\n",
    "cv=LeaveOneGroupOut()#.split(X, y, groups)\n",
    "# scoring options: ['accuracy', 'adjusted_rand_score', 'average_precision', 'f1', 'log_loss', 'mean_squared_error', 'precision', 'r2', 'recall', 'roc_auc'] \n",
    "\n",
    "print(\"# Tuning hyper-parameters for f1_score\")\n",
    "print(\"Best parameters set found on development set:\")\n",
    "grid = GridSearchCV(SVM, param_grid, cv=cv, scoring='f1_weighted')\n",
    "#clf = grid.get_params()\n",
    "clf = grid.fit(X, y, groups=groups)\n",
    "print(clf.cv_results_['params'][clf.best_index_])\n",
    "print(\"Score: %0.03f\" % clf.best_score_)\n",
    "print(\"\")\n",
    "#for params, mean_score, scores in clf.grid_scores_:\n",
    "        #print(\"%0.3f (+/-%0.03f) for %r\" % (mean_score, scores.std() * 2, params))\n",
    "# Do a graphic representation\n",
    "scores = [x[1] for x in clf.grid_scores_]\n",
    "scores = np.array(scores).reshape(len(C_range), len(gamma_range))"
   ]
  },
  {
   "cell_type": "code",
   "execution_count": 9,
   "metadata": {
    "collapsed": false
   },
   "outputs": [
    {
     "name": "stdout",
     "output_type": "stream",
     "text": [
      "Heat map:\n"
     ]
    },
    {
     "data": {
      "image/png": "[encoded data removed]",
      "text/plain": [
       "<matplotlib.figure.Figure at 0x2a45a92d198>"
      ]
     },
     "metadata": {},
     "output_type": "display_data"
    }
   ],
   "source": [
    "print('Heat map:')\n",
    "plt.figure(figsize=(8, 6))\n",
    "plt.subplots_adjust(left=.3, right=0.8, bottom=0.3, top=0.8)\n",
    "plt.imshow(scores, interpolation='nearest', cmap=plt.cm.hot, norm=MidpointNormalize(vmin=0.3, midpoint=0.45))\n",
    "plt.xlabel('gamma')\n",
    "plt.ylabel('C')\n",
    "plt.colorbar()\n",
    "plt.xticks(np.arange(len(gamma_range)), gamma_range, rotation=45)\n",
    "plt.yticks(np.arange(len(C_range)), C_range)\n",
    "plt.title('Validation accuracy')\n",
    "plt.show()"
   ]
  },
  {
   "cell_type": "code",
   "execution_count": 13,
   "metadata": {
    "collapsed": false
   },
   "outputs": [
    {
     "data": {
      "image/png": "[encoded data removed]",
      "text/plain": [
       "<matplotlib.figure.Figure at 0x2a45be60208>"
      ]
     },
     "metadata": {},
     "output_type": "display_data"
    }
   ],
   "source": [
    "######### Estimation of final scores from this tuning:\n",
    "scoring_param = ['accuracy', 'precision_weighted', 'recall_weighted', 'f1_weighted' ]\n",
    "scores = []\n",
    "\n",
    "for scoring in scoring_param:\n",
    "    SVM = make_pipeline(StandardScaler(), SVC(C=10000000, gamma=1.0e-05))\n",
    "    cv=LeaveOneGroupOut().split(X, y, groups)\n",
    "    validated = cross_val_score(SVM, X, y, scoring=scoring, cv=cv, n_jobs=-1)\n",
    "    scores.append(validated)\n",
    "    \n",
    "scores = np.array(scores)\n",
    "scores = np.swapaxes(scores, 0, 1)\n",
    "scores = pd.DataFrame(data=scores, columns=scoring_param)\n",
    "    \n",
    "sns.boxplot(data=scores)\n",
    "\n",
    "plt.xlabel('scoring parameters')\n",
    "plt.ylabel('score')\n",
    "plt.title('Classification scores for tuned parameters')\n",
    "plt.show()"
   ]
  },
  {
   "cell_type": "code",
   "execution_count": null,
   "metadata": {
    "collapsed": true
   },
   "outputs": [],
   "source": []
  }
 ],
 "metadata": {
  "anaconda-cloud": {},
  "kernelspec": {
   "display_name": "Python [default]",
   "language": "python",
   "name": "python3"
  },
  "language_info": {
   "codemirror_mode": {
    "name": "ipython",
    "version": 3
   },
   "file_extension": ".py",
   "mimetype": "text/x-python",
   "name": "python",
   "nbconvert_exporter": "python",
   "pygments_lexer": "ipython3",
   "version": "3.5.2"
  }
 },
 "nbformat": 4,
 "nbformat_minor": 1
}

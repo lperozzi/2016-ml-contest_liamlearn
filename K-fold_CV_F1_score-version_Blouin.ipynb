{
 "cells": [
  {
   "cell_type": "markdown",
   "metadata": {},
   "source": [
    "### Function to make variables from wavelet decomposition"
   ]
  },
  {
   "cell_type": "code",
   "execution_count": 2,
   "metadata": {
    "collapsed": false
   },
   "outputs": [],
   "source": [
    "def make_dwt_vars(wells_df,logs,levels,wavelet='db3'):\n",
    "\n",
    "    from scipy.interpolate import interp1d\n",
    "    import pywt\n",
    "    \n",
    "    wave= pywt.Wavelet(wavelet)\n",
    "    max_level = max(levels)\n",
    "    \n",
    "    grouped = wells_df.groupby(['Well Name'])\n",
    "    new_df = pd.DataFrame()\n",
    "    for key in grouped.groups.keys():\n",
    "    \n",
    "        depth = grouped.get_group(key)['Depth']\n",
    "        temp_df = pd.DataFrame()\n",
    "        temp_df['Depth'] = depth\n",
    "        for log in logs:\n",
    "      \n",
    "            temp_data = grouped.get_group(key)[log]\n",
    "        \n",
    "            for i in range(1,max_level+1):\n",
    "\n",
    "                cA,cD = pywt.dwt(temp_data,wave,mode='symmetric')\n",
    "                new_depth = np.linspace(min(depth),max(depth),len(cD))\n",
    "                f = interp1d(new_depth,cD,kind='nearest')\n",
    "                \n",
    "                if (i in levels):\n",
    "                    temp_df[log + '_cD_step_level_' + str(i)] = f(depth)\n",
    "    \n",
    "        temp_df['Well Name'] = [key for _ in range(len(depth))]\n",
    "        new_df = new_df.append(temp_df)\n",
    "        \n",
    "    new_df = new_df.sort_index()\n",
    "    new_df = new_df.drop(['Well Name','Depth'],axis=1)\n",
    "    return pd.concat([wells_df,new_df],axis=1)"
   ]
  },
  {
   "cell_type": "code",
   "execution_count": 3,
   "metadata": {
    "collapsed": false
   },
   "outputs": [],
   "source": [
    "def make_entropy_vars(wells_df,logs,l_foot):\n",
    "    \n",
    "    from skimage.filters.rank import entropy\n",
    "    from skimage.morphology import rectangle\n",
    "    from skimage.util import img_as_ubyte\n",
    "    \n",
    "    new_df = pd.DataFrame()\n",
    "    grouped = wells_df.groupby(['Well Name'])\n",
    "    \n",
    "    for key in grouped.groups.keys():\n",
    "    \n",
    "        depth = grouped.get_group(key)['Depth']\n",
    "        temp_df = pd.DataFrame()\n",
    "        temp_df['Depth'] = depth\n",
    "        \n",
    "        for log in logs:\n",
    "      \n",
    "            temp_data = grouped.get_group(key)[log]       \n",
    "            footprint = rectangle(l_foot,3)\n",
    "\n",
    "            image = np.vstack((temp_data,temp_data,temp_data))\n",
    "            image -= np.median(image) \n",
    "            image /= np.max(np.abs(image))\n",
    "            image = img_as_ubyte(image)\n",
    "\n",
    "            temp_df[log + '_entropy_foot' + str(l_foot)] = entropy(image,footprint)[0,:]\n",
    "    \n",
    "        temp_df['Well Name'] = [key for _ in range(len(depth))]\n",
    "        new_df = new_df.append(temp_df)\n",
    "    \n",
    "    new_df = new_df.sort_index()\n",
    "    new_df = new_df.drop(['Well Name','Depth'],axis=1)\n",
    "    return pd.concat([wells_df,new_df],axis=1)"
   ]
  },
  {
   "cell_type": "markdown",
   "metadata": {},
   "source": [
    "## Exploring the dataset\n",
    "First, we will examine the data set we will use to train the classifier."
   ]
  },
  {
   "cell_type": "code",
   "execution_count": 11,
   "metadata": {
    "collapsed": false
   },
   "outputs": [
    {
     "data": {
      "text/html": [
       "<div>\n",
       "<table border=\"1\" class=\"dataframe\">\n",
       "  <thead>\n",
       "    <tr style=\"text-align: right;\">\n",
       "      <th></th>\n",
       "      <th>Facies</th>\n",
       "      <th>Depth</th>\n",
       "      <th>GR</th>\n",
       "      <th>ILD_log10</th>\n",
       "      <th>DeltaPHI</th>\n",
       "      <th>PHIND</th>\n",
       "      <th>PE</th>\n",
       "      <th>NM_M</th>\n",
       "      <th>RELPOS</th>\n",
       "    </tr>\n",
       "  </thead>\n",
       "  <tbody>\n",
       "    <tr>\n",
       "      <th>count</th>\n",
       "      <td>4149.000000</td>\n",
       "      <td>4149.000000</td>\n",
       "      <td>4149.000000</td>\n",
       "      <td>4149.000000</td>\n",
       "      <td>4149.000000</td>\n",
       "      <td>4149.000000</td>\n",
       "      <td>3232.000000</td>\n",
       "      <td>4149.000000</td>\n",
       "      <td>4149.000000</td>\n",
       "    </tr>\n",
       "    <tr>\n",
       "      <th>mean</th>\n",
       "      <td>4.503254</td>\n",
       "      <td>2906.867438</td>\n",
       "      <td>64.933985</td>\n",
       "      <td>0.659566</td>\n",
       "      <td>4.402484</td>\n",
       "      <td>13.201066</td>\n",
       "      <td>3.725014</td>\n",
       "      <td>1.518438</td>\n",
       "      <td>0.521852</td>\n",
       "    </tr>\n",
       "    <tr>\n",
       "      <th>std</th>\n",
       "      <td>2.474324</td>\n",
       "      <td>133.300164</td>\n",
       "      <td>30.302530</td>\n",
       "      <td>0.252703</td>\n",
       "      <td>5.274947</td>\n",
       "      <td>7.132846</td>\n",
       "      <td>0.896152</td>\n",
       "      <td>0.499720</td>\n",
       "      <td>0.286644</td>\n",
       "    </tr>\n",
       "    <tr>\n",
       "      <th>min</th>\n",
       "      <td>1.000000</td>\n",
       "      <td>2573.500000</td>\n",
       "      <td>10.149000</td>\n",
       "      <td>-0.025949</td>\n",
       "      <td>-21.832000</td>\n",
       "      <td>0.550000</td>\n",
       "      <td>0.200000</td>\n",
       "      <td>1.000000</td>\n",
       "      <td>0.000000</td>\n",
       "    </tr>\n",
       "    <tr>\n",
       "      <th>25%</th>\n",
       "      <td>2.000000</td>\n",
       "      <td>2821.500000</td>\n",
       "      <td>44.730000</td>\n",
       "      <td>0.498000</td>\n",
       "      <td>1.600000</td>\n",
       "      <td>8.500000</td>\n",
       "      <td>3.100000</td>\n",
       "      <td>1.000000</td>\n",
       "      <td>0.277000</td>\n",
       "    </tr>\n",
       "    <tr>\n",
       "      <th>50%</th>\n",
       "      <td>4.000000</td>\n",
       "      <td>2932.500000</td>\n",
       "      <td>64.990000</td>\n",
       "      <td>0.639000</td>\n",
       "      <td>4.300000</td>\n",
       "      <td>12.020000</td>\n",
       "      <td>3.551500</td>\n",
       "      <td>2.000000</td>\n",
       "      <td>0.528000</td>\n",
       "    </tr>\n",
       "    <tr>\n",
       "      <th>75%</th>\n",
       "      <td>6.000000</td>\n",
       "      <td>3007.000000</td>\n",
       "      <td>79.438000</td>\n",
       "      <td>0.822000</td>\n",
       "      <td>7.500000</td>\n",
       "      <td>16.050000</td>\n",
       "      <td>4.300000</td>\n",
       "      <td>2.000000</td>\n",
       "      <td>0.769000</td>\n",
       "    </tr>\n",
       "    <tr>\n",
       "      <th>max</th>\n",
       "      <td>9.000000</td>\n",
       "      <td>3138.000000</td>\n",
       "      <td>361.150000</td>\n",
       "      <td>1.800000</td>\n",
       "      <td>19.312000</td>\n",
       "      <td>84.400000</td>\n",
       "      <td>8.094000</td>\n",
       "      <td>2.000000</td>\n",
       "      <td>1.000000</td>\n",
       "    </tr>\n",
       "  </tbody>\n",
       "</table>\n",
       "</div>"
      ],
      "text/plain": [
       "            Facies        Depth           GR    ILD_log10     DeltaPHI  \\\n",
       "count  4149.000000  4149.000000  4149.000000  4149.000000  4149.000000   \n",
       "mean      4.503254  2906.867438    64.933985     0.659566     4.402484   \n",
       "std       2.474324   133.300164    30.302530     0.252703     5.274947   \n",
       "min       1.000000  2573.500000    10.149000    -0.025949   -21.832000   \n",
       "25%       2.000000  2821.500000    44.730000     0.498000     1.600000   \n",
       "50%       4.000000  2932.500000    64.990000     0.639000     4.300000   \n",
       "75%       6.000000  3007.000000    79.438000     0.822000     7.500000   \n",
       "max       9.000000  3138.000000   361.150000     1.800000    19.312000   \n",
       "\n",
       "             PHIND           PE         NM_M       RELPOS  \n",
       "count  4149.000000  3232.000000  4149.000000  4149.000000  \n",
       "mean     13.201066     3.725014     1.518438     0.521852  \n",
       "std       7.132846     0.896152     0.499720     0.286644  \n",
       "min       0.550000     0.200000     1.000000     0.000000  \n",
       "25%       8.500000     3.100000     1.000000     0.277000  \n",
       "50%      12.020000     3.551500     2.000000     0.528000  \n",
       "75%      16.050000     4.300000     2.000000     0.769000  \n",
       "max      84.400000     8.094000     2.000000     1.000000  "
      ]
     },
     "execution_count": 11,
     "metadata": {},
     "output_type": "execute_result"
    }
   ],
   "source": [
    "%matplotlib inline\n",
    "\n",
    "import warnings\n",
    "warnings.filterwarnings('ignore')\n",
    "\n",
    "import pandas as pd\n",
    "import numpy as np\n",
    "import matplotlib as mpl\n",
    "import matplotlib.pyplot as plt\n",
    "import matplotlib.colors as colors\n",
    "from mpl_toolkits.axes_grid1 import make_axes_locatable\n",
    "\n",
    "from pandas import set_option\n",
    "set_option(\"display.max_rows\", 10)\n",
    "pd.options.mode.chained_assignment = None\n",
    "\n",
    "filename = 'data/facies_vectors.csv'\n",
    "training_data = pd.read_csv(filename)\n",
    "training_data.describe()"
   ]
  },
  {
   "cell_type": "markdown",
   "metadata": {},
   "source": [
    "### Choice of Variables\n",
    "Here we use both functions to generate variable and then handpicked the ones to use."
   ]
  },
  {
   "cell_type": "markdown",
   "metadata": {
    "collapsed": true
   },
   "source": [
    "logs = ['PHIND','ILD_log10','DeltaPHI']\n",
    "levels = [4]\n",
    "\n",
    "training_full = make_dwt_vars(training_data,['GR'],levels)\n",
    "training_full = make_entropy_vars(training_full,logs,20)\n",
    "training_full"
   ]
  },
  {
   "cell_type": "code",
   "execution_count": 42,
   "metadata": {
    "collapsed": true
   },
   "outputs": [],
   "source": [
    "training_full.replace(to_replace=np.nan,value=-99999,inplace=True)"
   ]
  },
  {
   "cell_type": "code",
   "execution_count": 43,
   "metadata": {
    "collapsed": true
   },
   "outputs": [],
   "source": [
    "from imblearn.over_sampling import SMOTE\n",
    "from sklearn import preprocessing\n",
    "from sklearn import svm\n",
    "from sklearn import metrics\n",
    "from sklearn import ensemble"
   ]
  },
  {
   "cell_type": "markdown",
   "metadata": {},
   "source": [
    "## K fold cross-validation \n",
    "\n",
    "Doing a cross-validation on each well in order to see how the predictor works on each well as a blind dataset"
   ]
  },
  {
   "cell_type": "code",
   "execution_count": 44,
   "metadata": {
    "collapsed": false
   },
   "outputs": [],
   "source": [
    "estimators = [1,10,50,100,200,300,500,800,1000,2000,5000]\n",
    "mean_F1 = []\n",
    "\n",
    "for n in estimators:\n",
    "    names = list(np.unique(training_full['Well Name']))\n",
    "    grouped = training_full.groupby(['Well Name'])\n",
    "    scores = []\n",
    "\n",
    "    for name in names:\n",
    "\n",
    "        test = grouped.get_group(name)\n",
    "        X_test = test.drop(['Formation', 'Well Name', 'Depth','Facies'], axis=1).values\n",
    "        y_test = test['Facies'].values\n",
    "\n",
    "        train_names = names.copy()\n",
    "        train_names.remove(name)\n",
    "        train = pd.DataFrame()\n",
    "\n",
    "        for train_name in train_names:\n",
    "            train = train.append(grouped.get_group(train_name))\n",
    "\n",
    "        X_train = train.drop(['Formation', 'Well Name', 'Depth','Facies'], axis=1).values\n",
    "        y_train = train['Facies'].values\n",
    "\n",
    "        #The prediction begins\n",
    "        \n",
    "        #We start with oversampling minority classes\n",
    "        smt = SMOTE()\n",
    "        X_train, y_train = smt.fit_sample(X_train,y_train)\n",
    "        \n",
    "        clf = ensemble.RandomForestClassifier(n_estimators=n,n_jobs=-1)\n",
    "        clf.fit(X_train, y_train)\n",
    "        y_pred = clf.predict(X_test)\n",
    "\n",
    "        #Scoring\n",
    "        score = metrics.f1_score(y_test, y_pred, average='weighted')\n",
    "        scores.append(score)\n",
    "#         print('********')\n",
    "#         print('Blind well is {0}, F1 score : {1:.4%}\\n'.format(name,score))\n",
    "\n",
    "#     print(\"=\"*30)\n",
    "#     print('*********** RESULT ***********')\n",
    "#     print(\"=\"*30)\n",
    "#     print('\\nAverage  F1-score is {:.4%}'.format(np.mean(scores)))\n",
    "\n",
    "    mean_F1.append(np.mean(scores))"
   ]
  },
  {
   "cell_type": "code",
   "execution_count": 45,
   "metadata": {
    "collapsed": false
   },
   "outputs": [
    {
     "data": {
      "image/png": "[encoded data removed]",
      "text/plain": [
       "<matplotlib.figure.Figure at 0x7fabdd4b4a58>"
      ]
     },
     "metadata": {},
     "output_type": "display_data"
    }
   ],
   "source": [
    "plt.plot(estimators,mean_F1);"
   ]
  },
  {
   "cell_type": "code",
   "execution_count": null,
   "metadata": {
    "collapsed": true
   },
   "outputs": [],
   "source": []
  }
 ],
 "metadata": {
  "anaconda-cloud": {},
  "kernelspec": {
   "display_name": "Python [Root]",
   "language": "python",
   "name": "Python [Root]"
  },
  "language_info": {
   "codemirror_mode": {
    "name": "ipython",
    "version": 3
   },
   "file_extension": ".py",
   "mimetype": "text/x-python",
   "name": "python",
   "nbconvert_exporter": "python",
   "pygments_lexer": "ipython3",
   "version": "3.5.2"
  }
 },
 "nbformat": 4,
 "nbformat_minor": 0
}

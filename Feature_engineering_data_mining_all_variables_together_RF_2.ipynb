{
 "cells": [
  {
   "cell_type": "markdown",
   "metadata": {},
   "source": [
    "# Feature engineering: creating new variables from raw data\n",
    "\n",
    "In this notebook, a series of new variables are created from raw rock physical properties. These variables are thought to give insight on the downhole texture of each raw variable and on the relationship between neighboring points.\n",
    "\n",
    "These new variables are:\n",
    "- calculated from wavelets at different scales\n",
    "- estimations of the local entropy\n",
    "- estimation of the local gradient\n",
    "- moving averages with variable window\n",
    "- moving standard deviation with variable window (still to be done)\n",
    "- local max and min\n",
    "\n",
    "First, we import all the tools we need, and the training data:"
   ]
  },
  {
   "cell_type": "code",
   "execution_count": 2,
   "metadata": {
    "collapsed": false
   },
   "outputs": [
    {
     "data": {
      "text/html": [
       "<div>\n",
       "<table border=\"1\" class=\"dataframe\">\n",
       "  <thead>\n",
       "    <tr style=\"text-align: right;\">\n",
       "      <th></th>\n",
       "      <th>Facies</th>\n",
       "      <th>Formation</th>\n",
       "      <th>Well Name</th>\n",
       "      <th>Depth</th>\n",
       "      <th>GR</th>\n",
       "      <th>ILD_log10</th>\n",
       "      <th>DeltaPHI</th>\n",
       "      <th>PHIND</th>\n",
       "      <th>PE</th>\n",
       "      <th>NM_M</th>\n",
       "      <th>RELPOS</th>\n",
       "    </tr>\n",
       "  </thead>\n",
       "  <tbody>\n",
       "    <tr>\n",
       "      <th>0</th>\n",
       "      <td>3</td>\n",
       "      <td>A1 SH</td>\n",
       "      <td>SHRIMPLIN</td>\n",
       "      <td>2793.0</td>\n",
       "      <td>77.45</td>\n",
       "      <td>0.664</td>\n",
       "      <td>9.9</td>\n",
       "      <td>11.915</td>\n",
       "      <td>4.6</td>\n",
       "      <td>1</td>\n",
       "      <td>1.000</td>\n",
       "    </tr>\n",
       "    <tr>\n",
       "      <th>1</th>\n",
       "      <td>3</td>\n",
       "      <td>A1 SH</td>\n",
       "      <td>SHRIMPLIN</td>\n",
       "      <td>2793.5</td>\n",
       "      <td>78.26</td>\n",
       "      <td>0.661</td>\n",
       "      <td>14.2</td>\n",
       "      <td>12.565</td>\n",
       "      <td>4.1</td>\n",
       "      <td>1</td>\n",
       "      <td>0.979</td>\n",
       "    </tr>\n",
       "    <tr>\n",
       "      <th>2</th>\n",
       "      <td>3</td>\n",
       "      <td>A1 SH</td>\n",
       "      <td>SHRIMPLIN</td>\n",
       "      <td>2794.0</td>\n",
       "      <td>79.05</td>\n",
       "      <td>0.658</td>\n",
       "      <td>14.8</td>\n",
       "      <td>13.050</td>\n",
       "      <td>3.6</td>\n",
       "      <td>1</td>\n",
       "      <td>0.957</td>\n",
       "    </tr>\n",
       "    <tr>\n",
       "      <th>3</th>\n",
       "      <td>3</td>\n",
       "      <td>A1 SH</td>\n",
       "      <td>SHRIMPLIN</td>\n",
       "      <td>2794.5</td>\n",
       "      <td>86.10</td>\n",
       "      <td>0.655</td>\n",
       "      <td>13.9</td>\n",
       "      <td>13.115</td>\n",
       "      <td>3.5</td>\n",
       "      <td>1</td>\n",
       "      <td>0.936</td>\n",
       "    </tr>\n",
       "    <tr>\n",
       "      <th>4</th>\n",
       "      <td>3</td>\n",
       "      <td>A1 SH</td>\n",
       "      <td>SHRIMPLIN</td>\n",
       "      <td>2795.0</td>\n",
       "      <td>74.58</td>\n",
       "      <td>0.647</td>\n",
       "      <td>13.5</td>\n",
       "      <td>13.300</td>\n",
       "      <td>3.4</td>\n",
       "      <td>1</td>\n",
       "      <td>0.915</td>\n",
       "    </tr>\n",
       "  </tbody>\n",
       "</table>\n",
       "</div>"
      ],
      "text/plain": [
       "   Facies Formation  Well Name   Depth     GR  ILD_log10  DeltaPHI   PHIND  \\\n",
       "0       3     A1 SH  SHRIMPLIN  2793.0  77.45      0.664       9.9  11.915   \n",
       "1       3     A1 SH  SHRIMPLIN  2793.5  78.26      0.661      14.2  12.565   \n",
       "2       3     A1 SH  SHRIMPLIN  2794.0  79.05      0.658      14.8  13.050   \n",
       "3       3     A1 SH  SHRIMPLIN  2794.5  86.10      0.655      13.9  13.115   \n",
       "4       3     A1 SH  SHRIMPLIN  2795.0  74.58      0.647      13.5  13.300   \n",
       "\n",
       "    PE  NM_M  RELPOS  \n",
       "0  4.6     1   1.000  \n",
       "1  4.1     1   0.979  \n",
       "2  3.6     1   0.957  \n",
       "3  3.5     1   0.936  \n",
       "4  3.4     1   0.915  "
      ]
     },
     "execution_count": 2,
     "metadata": {},
     "output_type": "execute_result"
    }
   ],
   "source": [
    "%matplotlib inline\n",
    "\n",
    "import warnings\n",
    "warnings.filterwarnings('ignore')\n",
    "\n",
    "import pandas as pd\n",
    "import numpy as np\n",
    "import matplotlib as mpl\n",
    "import matplotlib.pyplot as plt\n",
    "import matplotlib.colors as colors\n",
    "from mpl_toolkits.axes_grid1 import make_axes_locatable\n",
    "import seaborn as sns\n",
    "\n",
    "from pandas import set_option\n",
    "# set_option(\"display.max_rows\", 10)\n",
    "pd.options.mode.chained_assignment = None\n",
    "\n",
    "###### Import packages needed for the make_vars functions\n",
    "from scipy.interpolate import interp1d\n",
    "import pywt\n",
    "\n",
    "from skimage.filters.rank import entropy\n",
    "from skimage.morphology import rectangle\n",
    "from skimage.util import img_as_ubyte\n",
    "\n",
    "##### import stuff from scikit learn\n",
    "from sklearn.ensemble import RandomForestClassifier\n",
    "from sklearn.model_selection import KFold, cross_val_score, LeaveOneGroupOut\n",
    "\n",
    "filename = 'data/facies_vectors.csv'\n",
    "training_data = pd.read_csv(filename)\n",
    "training_data.head()"
   ]
  },
  {
   "cell_type": "code",
   "execution_count": 3,
   "metadata": {
    "collapsed": false
   },
   "outputs": [
    {
     "data": {
      "text/html": [
       "<div>\n",
       "<table border=\"1\" class=\"dataframe\">\n",
       "  <thead>\n",
       "    <tr style=\"text-align: right;\">\n",
       "      <th></th>\n",
       "      <th>Facies</th>\n",
       "      <th>Depth</th>\n",
       "      <th>GR</th>\n",
       "      <th>ILD_log10</th>\n",
       "      <th>DeltaPHI</th>\n",
       "      <th>PHIND</th>\n",
       "      <th>PE</th>\n",
       "      <th>NM_M</th>\n",
       "      <th>RELPOS</th>\n",
       "    </tr>\n",
       "  </thead>\n",
       "  <tbody>\n",
       "    <tr>\n",
       "      <th>count</th>\n",
       "      <td>4149.000000</td>\n",
       "      <td>4149.000000</td>\n",
       "      <td>4149.000000</td>\n",
       "      <td>4149.000000</td>\n",
       "      <td>4149.000000</td>\n",
       "      <td>4149.000000</td>\n",
       "      <td>3232.000000</td>\n",
       "      <td>4149.000000</td>\n",
       "      <td>4149.000000</td>\n",
       "    </tr>\n",
       "    <tr>\n",
       "      <th>mean</th>\n",
       "      <td>4.503254</td>\n",
       "      <td>2906.867438</td>\n",
       "      <td>64.933985</td>\n",
       "      <td>0.659566</td>\n",
       "      <td>4.402484</td>\n",
       "      <td>13.201066</td>\n",
       "      <td>3.725014</td>\n",
       "      <td>1.518438</td>\n",
       "      <td>0.521852</td>\n",
       "    </tr>\n",
       "    <tr>\n",
       "      <th>std</th>\n",
       "      <td>2.474324</td>\n",
       "      <td>133.300164</td>\n",
       "      <td>30.302530</td>\n",
       "      <td>0.252703</td>\n",
       "      <td>5.274947</td>\n",
       "      <td>7.132846</td>\n",
       "      <td>0.896152</td>\n",
       "      <td>0.499720</td>\n",
       "      <td>0.286644</td>\n",
       "    </tr>\n",
       "    <tr>\n",
       "      <th>min</th>\n",
       "      <td>1.000000</td>\n",
       "      <td>2573.500000</td>\n",
       "      <td>10.149000</td>\n",
       "      <td>-0.025949</td>\n",
       "      <td>-21.832000</td>\n",
       "      <td>0.550000</td>\n",
       "      <td>0.200000</td>\n",
       "      <td>1.000000</td>\n",
       "      <td>0.000000</td>\n",
       "    </tr>\n",
       "    <tr>\n",
       "      <th>25%</th>\n",
       "      <td>2.000000</td>\n",
       "      <td>2821.500000</td>\n",
       "      <td>44.730000</td>\n",
       "      <td>0.498000</td>\n",
       "      <td>1.600000</td>\n",
       "      <td>8.500000</td>\n",
       "      <td>3.100000</td>\n",
       "      <td>1.000000</td>\n",
       "      <td>0.277000</td>\n",
       "    </tr>\n",
       "    <tr>\n",
       "      <th>50%</th>\n",
       "      <td>4.000000</td>\n",
       "      <td>2932.500000</td>\n",
       "      <td>64.990000</td>\n",
       "      <td>0.639000</td>\n",
       "      <td>4.300000</td>\n",
       "      <td>12.020000</td>\n",
       "      <td>3.551500</td>\n",
       "      <td>2.000000</td>\n",
       "      <td>0.528000</td>\n",
       "    </tr>\n",
       "    <tr>\n",
       "      <th>75%</th>\n",
       "      <td>6.000000</td>\n",
       "      <td>3007.000000</td>\n",
       "      <td>79.438000</td>\n",
       "      <td>0.822000</td>\n",
       "      <td>7.500000</td>\n",
       "      <td>16.050000</td>\n",
       "      <td>4.300000</td>\n",
       "      <td>2.000000</td>\n",
       "      <td>0.769000</td>\n",
       "    </tr>\n",
       "    <tr>\n",
       "      <th>max</th>\n",
       "      <td>9.000000</td>\n",
       "      <td>3138.000000</td>\n",
       "      <td>361.150000</td>\n",
       "      <td>1.800000</td>\n",
       "      <td>19.312000</td>\n",
       "      <td>84.400000</td>\n",
       "      <td>8.094000</td>\n",
       "      <td>2.000000</td>\n",
       "      <td>1.000000</td>\n",
       "    </tr>\n",
       "  </tbody>\n",
       "</table>\n",
       "</div>"
      ],
      "text/plain": [
       "            Facies        Depth           GR    ILD_log10     DeltaPHI  \\\n",
       "count  4149.000000  4149.000000  4149.000000  4149.000000  4149.000000   \n",
       "mean      4.503254  2906.867438    64.933985     0.659566     4.402484   \n",
       "std       2.474324   133.300164    30.302530     0.252703     5.274947   \n",
       "min       1.000000  2573.500000    10.149000    -0.025949   -21.832000   \n",
       "25%       2.000000  2821.500000    44.730000     0.498000     1.600000   \n",
       "50%       4.000000  2932.500000    64.990000     0.639000     4.300000   \n",
       "75%       6.000000  3007.000000    79.438000     0.822000     7.500000   \n",
       "max       9.000000  3138.000000   361.150000     1.800000    19.312000   \n",
       "\n",
       "             PHIND           PE         NM_M       RELPOS  \n",
       "count  4149.000000  3232.000000  4149.000000  4149.000000  \n",
       "mean     13.201066     3.725014     1.518438     0.521852  \n",
       "std       7.132846     0.896152     0.499720     0.286644  \n",
       "min       0.550000     0.200000     1.000000     0.000000  \n",
       "25%       8.500000     3.100000     1.000000     0.277000  \n",
       "50%      12.020000     3.551500     2.000000     0.528000  \n",
       "75%      16.050000     4.300000     2.000000     0.769000  \n",
       "max      84.400000     8.094000     2.000000     1.000000  "
      ]
     },
     "execution_count": 3,
     "metadata": {},
     "output_type": "execute_result"
    }
   ],
   "source": [
    "training_data.describe()"
   ]
  },
  {
   "cell_type": "markdown",
   "metadata": {
    "collapsed": true
   },
   "source": [
    "## Creating variable-making functions"
   ]
  },
  {
   "cell_type": "code",
   "execution_count": 4,
   "metadata": {
    "collapsed": true
   },
   "outputs": [],
   "source": [
    "def make_dwt_vars_cD(wells_df,logs,levels,wavelet):\n",
    "\n",
    "    wave= pywt.Wavelet(wavelet)\n",
    "    max_level = max(levels)\n",
    "    \n",
    "    grouped = wells_df.groupby(['Well Name'])\n",
    "    new_df = pd.DataFrame()\n",
    "    for key in grouped.groups.keys():\n",
    "    \n",
    "        depth = grouped.get_group(key)['Depth']\n",
    "        temp_df = pd.DataFrame()\n",
    "        temp_df['Depth'] = depth\n",
    "        for log in logs:\n",
    "      \n",
    "            temp_data = grouped.get_group(key)[log]\n",
    "\n",
    "            cA_4, cD_4, cD_3, cD_2, cD_1 = pywt.wavedec(temp_data,wave,level=4,mode='symmetric')\n",
    "            dict_cD_levels = {1:cD_1, 2:cD_2, 3:cD_3, 4:cD_4}\n",
    "            #new_depth = np.linspace(min(depth),max(depth),len(cD))\n",
    "            #fD = interp1d(new_depth,cD,kind='nearest')\n",
    "                \n",
    "            for i in levels:\n",
    "                new_depth = np.linspace(min(depth),max(depth),len(dict_cD_levels[i]))\n",
    "                fA = interp1d(new_depth,dict_cD_levels[i],kind='nearest')\n",
    "                #temp_df[log + '_cD_step_level_' + str(i)] = fD(depth)\n",
    "                temp_df[log + '_cD_level_' + str(i)] = fA(depth)\n",
    "    \n",
    "        temp_df['Well Name'] = [key for _ in range(len(depth))]\n",
    "        new_df = new_df.append(temp_df)\n",
    "        \n",
    "    new_df = new_df.sort_index()\n",
    "    new_df = new_df.drop(['Well Name','Depth'],axis=1)\n",
    "    wells_df = wells_df[['Facies', 'Formation', 'Well Name', 'Depth']]\n",
    "    return pd.concat([wells_df, new_df],axis=1)"
   ]
  },
  {
   "cell_type": "code",
   "execution_count": 5,
   "metadata": {
    "collapsed": true
   },
   "outputs": [],
   "source": [
    "def make_dwt_vars_cA(wells_df,logs,levels,wavelet):\n",
    "\n",
    "    wave= pywt.Wavelet(wavelet)\n",
    "    max_level = max(levels)\n",
    "    \n",
    "    grouped = wells_df.groupby(['Well Name'])\n",
    "    new_df = pd.DataFrame()\n",
    "    for key in grouped.groups.keys():\n",
    "    \n",
    "        depth = grouped.get_group(key)['Depth']\n",
    "        temp_df = pd.DataFrame()\n",
    "        temp_df['Depth'] = depth\n",
    "        for log in logs:\n",
    "      \n",
    "            temp_data = grouped.get_group(key)[log]\n",
    "              \n",
    "            for i in levels:\n",
    "                \n",
    "                    cA_cD = pywt.wavedec(temp_data,wave,level=i,mode='symmetric')\n",
    "                    cA = cA_cD[0]\n",
    "                    new_depth = np.linspace(min(depth),max(depth),len(cA))\n",
    "                    fA = interp1d(new_depth,cA,kind='nearest')\n",
    "                    #temp_df[log + '_cD_step_level_' + str(i)] = fD(depth)\n",
    "                    temp_df[log + '_cA_level_' + str(i)] = fA(depth)\n",
    "    \n",
    "        temp_df['Well Name'] = [key for _ in range(len(depth))]\n",
    "        new_df = new_df.append(temp_df)\n",
    "        \n",
    "    new_df = new_df.sort_index()\n",
    "    new_df = new_df.drop(['Well Name','Depth'],axis=1)\n",
    "    wells_df = wells_df[['Facies', 'Formation', 'Well Name', 'Depth']]\n",
    "    return pd.concat([wells_df, new_df],axis=1)"
   ]
  },
  {
   "cell_type": "code",
   "execution_count": 6,
   "metadata": {
    "collapsed": false
   },
   "outputs": [],
   "source": [
    "def make_entropy_vars(wells_df,logs,l_foots):\n",
    "    \n",
    "    new_df = pd.DataFrame()\n",
    "    grouped = wells_df.groupby(['Well Name'])\n",
    "    \n",
    "    for key in grouped.groups.keys():\n",
    "    \n",
    "        depth = grouped.get_group(key)['Depth']\n",
    "        temp_df = pd.DataFrame()\n",
    "        temp_df['Depth'] = depth\n",
    "        \n",
    "        for log in logs:\n",
    "            temp_data = grouped.get_group(key)[log]\n",
    "            image = np.vstack((temp_data,temp_data,temp_data))\n",
    "            image -= np.median(image) \n",
    "            image /= np.max(np.abs(image))\n",
    "            image = img_as_ubyte(image)\n",
    "            \n",
    "            for l_foot in l_foots:     \n",
    "                footprint = rectangle(l_foot,3)\n",
    "                temp_df[log + '_entropy_foot' + str(l_foot)] = entropy(image,footprint)[0,:]\n",
    "    \n",
    "        temp_df['Well Name'] = [key for _ in range(len(depth))]\n",
    "        new_df = new_df.append(temp_df)\n",
    "    \n",
    "    new_df = new_df.sort_index()\n",
    "    new_df = new_df.drop(['Well Name','Depth'],axis=1)\n",
    "    wells_df = wells_df[['Facies', 'Formation', 'Well Name', 'Depth']]\n",
    "    return pd.concat([wells_df,new_df],axis=1)"
   ]
  },
  {
   "cell_type": "code",
   "execution_count": 7,
   "metadata": {
    "collapsed": true
   },
   "outputs": [],
   "source": [
    "def make_gradient_vars(wells_df,logs,dx_list):\n",
    "    \n",
    "    new_df = pd.DataFrame()\n",
    "    grouped = wells_df.groupby(['Well Name'])\n",
    "    \n",
    "    for key in grouped.groups.keys():\n",
    "    \n",
    "        depth = grouped.get_group(key)['Depth']\n",
    "        temp_df = pd.DataFrame()\n",
    "        temp_df['Depth'] = depth\n",
    "\n",
    "        for log in logs:\n",
    "\n",
    "            temp_data = grouped.get_group(key)[log]\n",
    "\n",
    "            for dx in dx_list:\n",
    "\n",
    "                temp_df[log + 'gradient_dx' + str(dx)] = np.gradient(temp_data,dx)\n",
    "\n",
    "        temp_df['Well Name'] = [key for _ in range(len(depth))]\n",
    "        new_df = new_df.append(temp_df) \n",
    "    \n",
    "    new_df = new_df.sort_index()\n",
    "    new_df = new_df.drop(['Well Name','Depth'],axis=1)\n",
    "    wells_df = wells_df[['Facies', 'Formation', 'Well Name', 'Depth']]\n",
    "    return pd.concat([wells_df,new_df],axis=1)"
   ]
  },
  {
   "cell_type": "code",
   "execution_count": 8,
   "metadata": {
    "collapsed": true
   },
   "outputs": [],
   "source": [
    "def make_moving_av_vars(wells_df,logs,windows):\n",
    "    \n",
    "    new_df = pd.DataFrame()\n",
    "    grouped = wells_df.groupby(['Well Name'])\n",
    "\n",
    "    for key in grouped.groups.keys():\n",
    "\n",
    "        temp_df = pd.DataFrame()\n",
    "        temp_df['Depth'] = grouped.get_group(key)['Depth']\n",
    "        \n",
    "        for log in logs:\n",
    "\n",
    "            temp_data = grouped.get_group(key)[log]\n",
    "            \n",
    "            for window in windows:\n",
    "                temp_df[log + '_moving_av_' + str(window) + 'ft'] = pd.rolling_mean(arg=temp_data, window=window, min_periods=1, center=True)                \n",
    "                \n",
    "        temp_df['Well Name'] = [key for _ in range(len(temp_df['Depth']))]\n",
    "        new_df = new_df.append(temp_df) \n",
    "\n",
    "        \n",
    "    new_df = new_df.sort_index()\n",
    "    new_df = new_df.drop(['Well Name','Depth'],axis=1)\n",
    "    wells_df = wells_df[['Facies', 'Formation', 'Well Name', 'Depth']]\n",
    "    return pd.concat([wells_df,new_df],axis=1)"
   ]
  },
  {
   "cell_type": "code",
   "execution_count": 9,
   "metadata": {
    "collapsed": true
   },
   "outputs": [],
   "source": [
    "def make_moving_std_vars(wells_df,logs,windows):\n",
    "    new_df = pd.DataFrame()\n",
    "    grouped = wells_df.groupby(['Well Name'])\n",
    "\n",
    "    for key in grouped.groups.keys():\n",
    "        temp_df = pd.DataFrame()\n",
    "        temp_df['Depth'] = grouped.get_group(key)['Depth']\n",
    "        \n",
    "        for log in logs:\n",
    "\n",
    "            temp_data = grouped.get_group(key)[log]\n",
    "            \n",
    "            for window in windows:\n",
    "                temp_df[log + '_moving_std_' + str(window) + 'ft'] = pd.rolling_std(arg=temp_data, window=window, min_periods=1, center=True)                \n",
    "                \n",
    "        temp_df['Well Name'] = [key for _ in range(len(temp_df['Depth']))]\n",
    "        new_df = new_df.append(temp_df) \n",
    "\n",
    "        \n",
    "    new_df = new_df.sort_index()\n",
    "    new_df = new_df.drop(['Well Name','Depth'],axis=1)\n",
    "    wells_df = wells_df[['Facies', 'Formation', 'Well Name', 'Depth']]\n",
    "    return pd.concat([wells_df,new_df],axis=1)"
   ]
  },
  {
   "cell_type": "code",
   "execution_count": 10,
   "metadata": {
    "collapsed": true
   },
   "outputs": [],
   "source": [
    "def make_moving_max_vars(wells_df,logs,windows):\n",
    "    new_df = pd.DataFrame()\n",
    "    grouped = wells_df.groupby(['Well Name'])\n",
    "\n",
    "    for key in grouped.groups.keys():\n",
    "        temp_df = pd.DataFrame()\n",
    "        temp_df['Depth'] = grouped.get_group(key)['Depth']\n",
    "        \n",
    "        for log in logs:\n",
    "\n",
    "            temp_data = grouped.get_group(key)[log]\n",
    "            \n",
    "            for window in windows:\n",
    "                temp_df[log + '_moving_max_' + str(window) + 'ft'] = pd.rolling_max(arg=temp_data, window=window, min_periods=1, center=True)                \n",
    "                \n",
    "        temp_df['Well Name'] = [key for _ in range(len(temp_df['Depth']))]\n",
    "        new_df = new_df.append(temp_df) \n",
    "\n",
    "        \n",
    "    new_df = new_df.sort_index()\n",
    "    new_df = new_df.drop(['Well Name','Depth'],axis=1)\n",
    "    wells_df = wells_df[['Facies', 'Formation', 'Well Name', 'Depth']]\n",
    "    return pd.concat([wells_df,new_df],axis=1)"
   ]
  },
  {
   "cell_type": "code",
   "execution_count": 11,
   "metadata": {
    "collapsed": false
   },
   "outputs": [],
   "source": [
    "def make_moving_min_vars(wells_df,logs,windows):\n",
    "    new_df = pd.DataFrame()\n",
    "    grouped = wells_df.groupby(['Well Name'])\n",
    "\n",
    "    for key in grouped.groups.keys():\n",
    "        temp_df = pd.DataFrame()\n",
    "        temp_df['Depth'] = grouped.get_group(key)['Depth']\n",
    "        \n",
    "        for log in logs:\n",
    "\n",
    "            temp_data = grouped.get_group(key)[log]\n",
    "            \n",
    "            for window in windows:\n",
    "                temp_df[log + '_moving_min_' + str(window) + 'ft'] = pd.rolling_min(arg=temp_data, window=window, min_periods=1, center=True)                \n",
    "                \n",
    "        temp_df['Well Name'] = [key for _ in range(len(temp_df['Depth']))]\n",
    "        new_df = new_df.append(temp_df) \n",
    "\n",
    "        \n",
    "    new_df = new_df.sort_index()\n",
    "    new_df = new_df.drop(['Well Name','Depth'],axis=1)\n",
    "    wells_df = wells_df[['Facies', 'Formation', 'Well Name', 'Depth']]\n",
    "    return pd.concat([wells_df,new_df],axis=1)"
   ]
  },
  {
   "cell_type": "code",
   "execution_count": 12,
   "metadata": {
    "collapsed": true
   },
   "outputs": [],
   "source": [
    "def make_rolling_marine_ratio_vars(wells_df, windows):\n",
    "\n",
    "    grouped = wells_df.groupby(['Well Name'])\n",
    "    new_var = pd.DataFrame()\n",
    "    for key in grouped.groups.keys():\n",
    "    \n",
    "        depth = grouped.get_group(key)['Depth']\n",
    "        temp_df = pd.DataFrame()\n",
    "        temp_df['Depth'] = depth\n",
    "        NM_M = grouped.get_group(key)['NM_M']\n",
    "        \n",
    "        for window in windows:\n",
    "    \n",
    "            temp_df['Depth'] = grouped.get_group(key)['Depth']\n",
    "            temp_df['Well Name'] = [key for _ in range(len(NM_M))]\n",
    "            temp_df['NM_M'] = grouped.get_group(key)['NM_M']\n",
    "            #We initialize a new variable\n",
    "            temp_df['Marine_ratio_' + str(window) + '_centered'] = pd.rolling_mean(arg=temp_df['NM_M'], window=window, min_periods=1, center=True)\n",
    "\n",
    "        temp_df['Well Name'] = [key for _ in range(len(temp_df['Depth']))]\n",
    "        new_var = new_var.append(temp_df)\n",
    "\n",
    "            \n",
    "    new_var = new_var.sort_index()\n",
    "    new_var =new_var.drop(['Well Name','Depth','NM_M'],axis=1)\n",
    "    wells_df = wells_df[['Facies', 'Formation', 'Well Name', 'Depth']]\n",
    "    return pd.concat([wells_df, new_var],axis=1)"
   ]
  },
  {
   "cell_type": "code",
   "execution_count": 13,
   "metadata": {
    "collapsed": true
   },
   "outputs": [],
   "source": [
    "def make_distance_to_M_up_vars(wells_df):\n",
    "    grouped = wells_df.groupby(['Well Name'])\n",
    "    new_var = pd.DataFrame()\n",
    "\n",
    "    for key in grouped.groups.keys():\n",
    "\n",
    "        NM_M = grouped.get_group(key)['NM_M'].values\n",
    "\n",
    "        #We create a temporary dataframe that we reset for every well\n",
    "        temp_df = pd.DataFrame()\n",
    "        temp_df['Depth'] = grouped.get_group(key)['Depth']\n",
    "        temp_df['Well Name'] = [key for _ in range(len(NM_M))]\n",
    "        #We initialize a new variable\n",
    "        dist_mar_up = np.zeros(len(NM_M))\n",
    "\n",
    "        # A variable counting the interval from the ipper marine deposit\n",
    "        # We initialize it to -99999 since we do not know what's abpve the first log\n",
    "        count = -1\n",
    "\n",
    "        for i in range(len(NM_M)):\n",
    "\n",
    "            if ((NM_M[i] == 1) & (count>-1)):\n",
    "\n",
    "                count+=0.5\n",
    "                dist_mar_up[i] += count\n",
    "\n",
    "            elif NM_M[i] == 2:\n",
    "\n",
    "                count=0\n",
    "\n",
    "            else:\n",
    "                dist_mar_up[i] = count\n",
    "\n",
    "        temp_df['dist_M_up'] = dist_mar_up\n",
    "\n",
    "        # We append each well variable to a larger dataframe\n",
    "        # We use a dataframe to preserve the index\n",
    "        new_var = new_var.append(temp_df)\n",
    "    \n",
    "    new_var = new_var.sort_index()\n",
    "    new_var =new_var.drop(['Well Name','Depth'],axis=1)\n",
    "    wells_df = wells_df[['Facies', 'Formation', 'Well Name', 'Depth']]\n",
    "    return pd.concat([wells_df, new_var],axis=1)"
   ]
  },
  {
   "cell_type": "code",
   "execution_count": 14,
   "metadata": {
    "collapsed": true
   },
   "outputs": [],
   "source": [
    "def make_distance_to_M_down_vars(wells_df):\n",
    "    grouped = wells_df.groupby(['Well Name'])\n",
    "    new_var = pd.DataFrame()\n",
    "\n",
    "    for key in grouped.groups.keys():\n",
    "\n",
    "        NM_M = grouped.get_group(key)['NM_M'].values\n",
    "\n",
    "        temp_df = pd.DataFrame()\n",
    "        temp_df['Depth'] = grouped.get_group(key)['Depth']\n",
    "        temp_df['Well Name'] = [key for _ in range(len(NM_M))]\n",
    "\n",
    "        dist_mar_down = np.zeros(len(NM_M))\n",
    "        count = -1\n",
    "\n",
    "        for i in range(len(NM_M)-1,-1,-1):\n",
    "\n",
    "            if ((NM_M[i] == 1) & (count>-1)):\n",
    "\n",
    "                count+=0.5\n",
    "                dist_mar_down[i] += count\n",
    "\n",
    "            elif NM_M[i] == 2:            \n",
    "                count=0\n",
    "\n",
    "            else:\n",
    "                dist_mar_down[i] = count\n",
    "\n",
    "        temp_df['dist_M_down'] = dist_mar_down\n",
    "\n",
    "        new_var = new_var.append(temp_df)\n",
    "        \n",
    "    new_var = new_var.sort_index()\n",
    "    new_var =new_var.drop(['Well Name','Depth'],axis=1)\n",
    "    wells_df = wells_df[['Facies', 'Formation', 'Well Name', 'Depth']]\n",
    "    return pd.concat([wells_df, new_var],axis=1)"
   ]
  },
  {
   "cell_type": "code",
   "execution_count": 15,
   "metadata": {
    "collapsed": true
   },
   "outputs": [],
   "source": [
    "def make_distance_to_NM_up_vars(wells_df):\n",
    "    grouped = wells_df.groupby(['Well Name'])\n",
    "    new_var = pd.DataFrame()\n",
    "\n",
    "    for key in grouped.groups.keys():\n",
    "\n",
    "        NM_M = grouped.get_group(key)['NM_M'].values\n",
    "\n",
    "        #We create a temporary dataframe that we reset for every well\n",
    "        temp_df = pd.DataFrame()\n",
    "        temp_df['Depth'] = grouped.get_group(key)['Depth']\n",
    "        temp_df['Well Name'] = [key for _ in range(len(NM_M))]\n",
    "        #We initialize a new variable\n",
    "        dist_mar_up = np.zeros(len(NM_M))\n",
    "\n",
    "        # A variable counting the interval from the ipper marine deposit\n",
    "        # We initialize it to -99999 since we do not know what's abpve the first log\n",
    "        count = -1\n",
    "\n",
    "        for i in range(len(NM_M)):\n",
    "\n",
    "            if ((NM_M[i] == 2) & (count>-1)):\n",
    "\n",
    "                count+=0.5\n",
    "                dist_mar_up[i] += count\n",
    "\n",
    "            elif NM_M[i] == 1:\n",
    "\n",
    "                count=0\n",
    "\n",
    "            else:\n",
    "                dist_mar_up[i] = count\n",
    "\n",
    "        temp_df['dist_NM_up'] = dist_mar_up\n",
    "\n",
    "        # We append each well variable to a larger dataframe\n",
    "        # We use a dataframe to preserve the index\n",
    "        new_var = new_var.append(temp_df)\n",
    "    \n",
    "    new_var = new_var.sort_index()\n",
    "    new_var =new_var.drop(['Well Name','Depth'],axis=1)\n",
    "    wells_df = wells_df[['Facies', 'Formation', 'Well Name', 'Depth']]\n",
    "    return pd.concat([wells_df, new_var],axis=1)"
   ]
  },
  {
   "cell_type": "code",
   "execution_count": 16,
   "metadata": {
    "collapsed": true
   },
   "outputs": [],
   "source": [
    "def make_distance_to_NM_down_vars(wells_df):\n",
    "    grouped = wells_df.groupby(['Well Name'])\n",
    "    new_var = pd.DataFrame()\n",
    "\n",
    "    for key in grouped.groups.keys():\n",
    "\n",
    "        NM_M = grouped.get_group(key)['NM_M'].values\n",
    "\n",
    "        temp_df = pd.DataFrame()\n",
    "        temp_df['Depth'] = grouped.get_group(key)['Depth']\n",
    "        temp_df['Well Name'] = [key for _ in range(len(NM_M))]\n",
    "\n",
    "        dist_mar_down = np.zeros(len(NM_M))\n",
    "        count = -1\n",
    "\n",
    "        for i in range(len(NM_M)-1,-1,-1):\n",
    "\n",
    "            if ((NM_M[i] == 2) & (count>-1)):\n",
    "\n",
    "                count+=0.5\n",
    "                dist_mar_down[i] += count\n",
    "\n",
    "            elif NM_M[i] == 1:            \n",
    "                count=0\n",
    "\n",
    "            else:\n",
    "                dist_mar_down[i] = count\n",
    "\n",
    "        temp_df['dist_NM_down'] = dist_mar_down\n",
    "\n",
    "        new_var = new_var.append(temp_df)\n",
    "        \n",
    "    new_var = new_var.sort_index()\n",
    "    new_var =new_var.drop(['Well Name','Depth'],axis=1)\n",
    "    wells_df = wells_df[['Facies', 'Formation', 'Well Name', 'Depth']]\n",
    "    return pd.concat([wells_df, new_var],axis=1)"
   ]
  },
  {
   "cell_type": "markdown",
   "metadata": {},
   "source": [
    "## Creating the variables"
   ]
  },
  {
   "cell_type": "code",
   "execution_count": 17,
   "metadata": {
    "collapsed": false
   },
   "outputs": [
    {
     "name": "stdout",
     "output_type": "stream",
     "text": [
      "(4149, 24)\n"
     ]
    }
   ],
   "source": [
    "##### cD From wavelet db1\n",
    "dwt_db1_cD_df = make_dwt_vars_cD(wells_df=training_data, logs=['GR', 'ILD_log10', 'DeltaPHI', 'PE', 'PHIND'],\n",
    "                       levels=[1, 2, 3, 4], wavelet='db1')\n",
    "print (dwt_db1_cD_df.shape)"
   ]
  },
  {
   "cell_type": "code",
   "execution_count": 18,
   "metadata": {
    "collapsed": false
   },
   "outputs": [
    {
     "name": "stdout",
     "output_type": "stream",
     "text": [
      "(4149, 24)\n"
     ]
    }
   ],
   "source": [
    "##### cA From wavelet db1\n",
    "dwt_db1_cA_df = make_dwt_vars_cA(wells_df=training_data, logs=['GR', 'ILD_log10', 'DeltaPHI', 'PE', 'PHIND'],\n",
    "                       levels=[1, 2, 3, 4], wavelet='db1')\n",
    "print (dwt_db1_cA_df.shape)"
   ]
  },
  {
   "cell_type": "code",
   "execution_count": 19,
   "metadata": {
    "collapsed": false
   },
   "outputs": [
    {
     "name": "stdout",
     "output_type": "stream",
     "text": [
      "(4149, 24)\n"
     ]
    }
   ],
   "source": [
    "##### cD From wavelet db3\n",
    "dwt_db3_cD_df = make_dwt_vars_cD(wells_df=training_data, logs=['GR', 'ILD_log10', 'DeltaPHI', 'PE', 'PHIND'],\n",
    "                       levels=[1, 2, 3, 4], wavelet='db3')\n",
    "print (dwt_db3_cD_df.shape)"
   ]
  },
  {
   "cell_type": "code",
   "execution_count": 20,
   "metadata": {
    "collapsed": false
   },
   "outputs": [
    {
     "name": "stdout",
     "output_type": "stream",
     "text": [
      "(4149, 24)\n"
     ]
    }
   ],
   "source": [
    "##### cA From wavelet db3\n",
    "dwt_db3_cA_df = make_dwt_vars_cA(wells_df=training_data, logs=['GR', 'ILD_log10', 'DeltaPHI', 'PE', 'PHIND'],\n",
    "                       levels=[1, 2, 3, 4], wavelet='db3')\n",
    "print (dwt_db3_cA_df.shape)"
   ]
  },
  {
   "cell_type": "code",
   "execution_count": 21,
   "metadata": {
    "collapsed": false
   },
   "outputs": [
    {
     "name": "stdout",
     "output_type": "stream",
     "text": [
      "(4149, 34)\n"
     ]
    }
   ],
   "source": [
    "##### From entropy\n",
    "entropy_df = make_entropy_vars(wells_df=training_data, logs=['GR', 'ILD_log10', 'DeltaPHI', 'PE', 'PHIND'],\n",
    "                               l_foots=[2, 3, 4, 5, 7, 10])\n",
    "print (entropy_df.shape)"
   ]
  },
  {
   "cell_type": "code",
   "execution_count": 22,
   "metadata": {
    "collapsed": false
   },
   "outputs": [
    {
     "name": "stdout",
     "output_type": "stream",
     "text": [
      "(4149, 39)\n"
     ]
    }
   ],
   "source": [
    "###### From gradient\n",
    "gradient_df = make_gradient_vars(wells_df=training_data, logs=['GR', 'ILD_log10', 'DeltaPHI', 'PE', 'PHIND'],\n",
    "                                 dx_list=[2, 3, 4, 5, 6, 10, 20])\n",
    "print (gradient_df.shape)"
   ]
  },
  {
   "cell_type": "code",
   "execution_count": 23,
   "metadata": {
    "collapsed": false
   },
   "outputs": [
    {
     "name": "stdout",
     "output_type": "stream",
     "text": [
      "(4149, 29)\n"
     ]
    }
   ],
   "source": [
    "##### From moving average\n",
    "moving_av_df = make_moving_av_vars(wells_df=training_data, logs=['GR', 'ILD_log10', 'DeltaPHI', 'PE', 'PHIND'], windows=[1, 2, 5, 10, 20])\n",
    "print (moving_av_df.shape)"
   ]
  },
  {
   "cell_type": "code",
   "execution_count": 24,
   "metadata": {
    "collapsed": false
   },
   "outputs": [
    {
     "name": "stdout",
     "output_type": "stream",
     "text": [
      "(4149, 39)\n"
     ]
    }
   ],
   "source": [
    "##### From moving standard deviation\n",
    "moving_std_df = make_moving_std_vars(wells_df=training_data, logs=['GR', 'ILD_log10', 'DeltaPHI', 'PE', 'PHIND'], windows=[3 , 4, 5, 7, 10, 15, 20])\n",
    "print (moving_std_df.shape)"
   ]
  },
  {
   "cell_type": "code",
   "execution_count": 25,
   "metadata": {
    "collapsed": false
   },
   "outputs": [
    {
     "name": "stdout",
     "output_type": "stream",
     "text": [
      "(4149, 39)\n"
     ]
    }
   ],
   "source": [
    "##### From moving max\n",
    "moving_max_df = make_moving_max_vars(wells_df=training_data, logs=['GR', 'ILD_log10', 'DeltaPHI', 'PE', 'PHIND'], windows=[3, 4, 5, 7, 10, 15, 20])\n",
    "print (moving_max_df.shape)"
   ]
  },
  {
   "cell_type": "code",
   "execution_count": 26,
   "metadata": {
    "collapsed": false
   },
   "outputs": [
    {
     "name": "stdout",
     "output_type": "stream",
     "text": [
      "(4149, 39)\n"
     ]
    }
   ],
   "source": [
    "##### From moving min\n",
    "moving_min_df = make_moving_min_vars(wells_df=training_data, logs=['GR', 'ILD_log10', 'DeltaPHI', 'PE', 'PHIND'], windows=[3 , 4, 5, 7, 10, 15, 20])\n",
    "print (moving_min_df.shape)"
   ]
  },
  {
   "cell_type": "code",
   "execution_count": 27,
   "metadata": {
    "collapsed": true
   },
   "outputs": [],
   "source": [
    "###### All geological variables\n",
    "rolling_marine_ratio_df = make_rolling_marine_ratio_vars(wells_df=training_data, windows=[5, 10, 15, 20, 30, 50, 75, 100, 200])\n",
    "dist_M_up_df = make_distance_to_M_up_vars(wells_df=training_data)\n",
    "dist_M_down_df = make_distance_to_M_down_vars(wells_df=training_data)\n",
    "dist_NM_up_df = make_distance_to_NM_up_vars(wells_df=training_data)\n",
    "dist_NM_down_df = make_distance_to_NM_down_vars(wells_df=training_data)\n"
   ]
  },
  {
   "cell_type": "markdown",
   "metadata": {
    "collapsed": true
   },
   "source": [
    "## Data mining variables and exploring their discriminatory power\n",
    "\n",
    "These variables have been creating to increase the classification success. The overall discrimnation power of each new variable and the discrimnation power for key classes (see below and Technical Report) are investigated in other notebooks using:\n",
    "- biplots (or pair plots)\n",
    "- kde plots\n",
    "- Anova?\n",
    "\n",
    "Here, a random forest is created to at the feature importance for all of these variables. Not all variables are selected below (see Notebook 1 for that) and NaN values are replaced by -99999."
   ]
  },
  {
   "cell_type": "code",
   "execution_count": 38,
   "metadata": {
    "collapsed": false
   },
   "outputs": [
    {
     "name": "stdout",
     "output_type": "stream",
     "text": [
      "(4149, 194)\n"
     ]
    },
    {
     "data": {
      "text/html": [
       "<div>\n",
       "<table border=\"1\" class=\"dataframe\">\n",
       "  <thead>\n",
       "    <tr style=\"text-align: right;\">\n",
       "      <th></th>\n",
       "      <th>Facies</th>\n",
       "      <th>Formation</th>\n",
       "      <th>Well Name</th>\n",
       "      <th>Depth</th>\n",
       "      <th>GR</th>\n",
       "      <th>ILD_log10</th>\n",
       "      <th>DeltaPHI</th>\n",
       "      <th>PHIND</th>\n",
       "      <th>PE</th>\n",
       "      <th>NM_M</th>\n",
       "      <th>...</th>\n",
       "      <th>Marine_ratio_20_centered</th>\n",
       "      <th>Marine_ratio_30_centered</th>\n",
       "      <th>Marine_ratio_50_centered</th>\n",
       "      <th>Marine_ratio_75_centered</th>\n",
       "      <th>Marine_ratio_100_centered</th>\n",
       "      <th>Marine_ratio_200_centered</th>\n",
       "      <th>dist_M_up</th>\n",
       "      <th>dist_M_down</th>\n",
       "      <th>dist_NM_up</th>\n",
       "      <th>dist_NM_down</th>\n",
       "    </tr>\n",
       "  </thead>\n",
       "  <tbody>\n",
       "    <tr>\n",
       "      <th>0</th>\n",
       "      <td>3</td>\n",
       "      <td>A1 SH</td>\n",
       "      <td>SHRIMPLIN</td>\n",
       "      <td>2793.0</td>\n",
       "      <td>77.45</td>\n",
       "      <td>0.664</td>\n",
       "      <td>9.9</td>\n",
       "      <td>11.915</td>\n",
       "      <td>4.6</td>\n",
       "      <td>1</td>\n",
       "      <td>...</td>\n",
       "      <td>1.0</td>\n",
       "      <td>1.0</td>\n",
       "      <td>1.0</td>\n",
       "      <td>1.0</td>\n",
       "      <td>1.140000</td>\n",
       "      <td>1.510000</td>\n",
       "      <td>-1.0</td>\n",
       "      <td>21.5</td>\n",
       "      <td>0.0</td>\n",
       "      <td>0.0</td>\n",
       "    </tr>\n",
       "    <tr>\n",
       "      <th>1</th>\n",
       "      <td>3</td>\n",
       "      <td>A1 SH</td>\n",
       "      <td>SHRIMPLIN</td>\n",
       "      <td>2793.5</td>\n",
       "      <td>78.26</td>\n",
       "      <td>0.661</td>\n",
       "      <td>14.2</td>\n",
       "      <td>12.565</td>\n",
       "      <td>4.1</td>\n",
       "      <td>1</td>\n",
       "      <td>...</td>\n",
       "      <td>1.0</td>\n",
       "      <td>1.0</td>\n",
       "      <td>1.0</td>\n",
       "      <td>1.0</td>\n",
       "      <td>1.156863</td>\n",
       "      <td>1.504950</td>\n",
       "      <td>-1.0</td>\n",
       "      <td>21.0</td>\n",
       "      <td>0.0</td>\n",
       "      <td>0.0</td>\n",
       "    </tr>\n",
       "    <tr>\n",
       "      <th>2</th>\n",
       "      <td>3</td>\n",
       "      <td>A1 SH</td>\n",
       "      <td>SHRIMPLIN</td>\n",
       "      <td>2794.0</td>\n",
       "      <td>79.05</td>\n",
       "      <td>0.658</td>\n",
       "      <td>14.8</td>\n",
       "      <td>13.050</td>\n",
       "      <td>3.6</td>\n",
       "      <td>1</td>\n",
       "      <td>...</td>\n",
       "      <td>1.0</td>\n",
       "      <td>1.0</td>\n",
       "      <td>1.0</td>\n",
       "      <td>1.0</td>\n",
       "      <td>1.173077</td>\n",
       "      <td>1.500000</td>\n",
       "      <td>-1.0</td>\n",
       "      <td>20.5</td>\n",
       "      <td>0.0</td>\n",
       "      <td>0.0</td>\n",
       "    </tr>\n",
       "    <tr>\n",
       "      <th>3</th>\n",
       "      <td>3</td>\n",
       "      <td>A1 SH</td>\n",
       "      <td>SHRIMPLIN</td>\n",
       "      <td>2794.5</td>\n",
       "      <td>86.10</td>\n",
       "      <td>0.655</td>\n",
       "      <td>13.9</td>\n",
       "      <td>13.115</td>\n",
       "      <td>3.5</td>\n",
       "      <td>1</td>\n",
       "      <td>...</td>\n",
       "      <td>1.0</td>\n",
       "      <td>1.0</td>\n",
       "      <td>1.0</td>\n",
       "      <td>1.0</td>\n",
       "      <td>1.188679</td>\n",
       "      <td>1.495146</td>\n",
       "      <td>-1.0</td>\n",
       "      <td>20.0</td>\n",
       "      <td>0.0</td>\n",
       "      <td>0.0</td>\n",
       "    </tr>\n",
       "    <tr>\n",
       "      <th>4</th>\n",
       "      <td>3</td>\n",
       "      <td>A1 SH</td>\n",
       "      <td>SHRIMPLIN</td>\n",
       "      <td>2795.0</td>\n",
       "      <td>74.58</td>\n",
       "      <td>0.647</td>\n",
       "      <td>13.5</td>\n",
       "      <td>13.300</td>\n",
       "      <td>3.4</td>\n",
       "      <td>1</td>\n",
       "      <td>...</td>\n",
       "      <td>1.0</td>\n",
       "      <td>1.0</td>\n",
       "      <td>1.0</td>\n",
       "      <td>1.0</td>\n",
       "      <td>1.203704</td>\n",
       "      <td>1.490385</td>\n",
       "      <td>-1.0</td>\n",
       "      <td>19.5</td>\n",
       "      <td>0.0</td>\n",
       "      <td>0.0</td>\n",
       "    </tr>\n",
       "  </tbody>\n",
       "</table>\n",
       "<p>5 rows × 194 columns</p>\n",
       "</div>"
      ],
      "text/plain": [
       "   Facies Formation  Well Name   Depth     GR  ILD_log10  DeltaPHI   PHIND  \\\n",
       "0       3     A1 SH  SHRIMPLIN  2793.0  77.45      0.664       9.9  11.915   \n",
       "1       3     A1 SH  SHRIMPLIN  2793.5  78.26      0.661      14.2  12.565   \n",
       "2       3     A1 SH  SHRIMPLIN  2794.0  79.05      0.658      14.8  13.050   \n",
       "3       3     A1 SH  SHRIMPLIN  2794.5  86.10      0.655      13.9  13.115   \n",
       "4       3     A1 SH  SHRIMPLIN  2795.0  74.58      0.647      13.5  13.300   \n",
       "\n",
       "    PE  NM_M      ...       Marine_ratio_20_centered  \\\n",
       "0  4.6     1      ...                            1.0   \n",
       "1  4.1     1      ...                            1.0   \n",
       "2  3.6     1      ...                            1.0   \n",
       "3  3.5     1      ...                            1.0   \n",
       "4  3.4     1      ...                            1.0   \n",
       "\n",
       "   Marine_ratio_30_centered  Marine_ratio_50_centered  \\\n",
       "0                       1.0                       1.0   \n",
       "1                       1.0                       1.0   \n",
       "2                       1.0                       1.0   \n",
       "3                       1.0                       1.0   \n",
       "4                       1.0                       1.0   \n",
       "\n",
       "   Marine_ratio_75_centered  Marine_ratio_100_centered  \\\n",
       "0                       1.0                   1.140000   \n",
       "1                       1.0                   1.156863   \n",
       "2                       1.0                   1.173077   \n",
       "3                       1.0                   1.188679   \n",
       "4                       1.0                   1.203704   \n",
       "\n",
       "   Marine_ratio_200_centered  dist_M_up  dist_M_down  dist_NM_up  dist_NM_down  \n",
       "0                   1.510000       -1.0         21.5         0.0           0.0  \n",
       "1                   1.504950       -1.0         21.0         0.0           0.0  \n",
       "2                   1.500000       -1.0         20.5         0.0           0.0  \n",
       "3                   1.495146       -1.0         20.0         0.0           0.0  \n",
       "4                   1.490385       -1.0         19.5         0.0           0.0  \n",
       "\n",
       "[5 rows x 194 columns]"
      ]
     },
     "execution_count": 38,
     "metadata": {},
     "output_type": "execute_result"
    }
   ],
   "source": [
    "list_df_var = [dwt_db3_cD_df, dwt_db3_cA_df, moving_av_df, moving_std_df, moving_max_df, moving_min_df,\n",
    "              rolling_marine_ratio_df, dist_M_up_df, dist_M_down_df, dist_NM_up_df, dist_NM_down_df]\n",
    "#list_df_var = [dwt_db1_cD_df, dwt_db1_cA_df, dwt_db3_cD_df, dwt_db3_cA_df,\n",
    "               #entropy_df, gradient_df, moving_av_df, moving_std_df, moving_max_df, moving_min_df,\n",
    "              #rolling_marine_ratio_df, dist_M_up_df, dist_M_down_df, dist_NM_up_df, dist_NM_down_df]\n",
    "combined_df = training_data\n",
    "for var_df in list_df_var:\n",
    "    temp_df = var_df\n",
    "    temp_df = temp_df.drop(['Facies', 'Formation', 'Well Name', 'Depth'], axis=1)\n",
    "    combined_df = pd.concat([combined_df,temp_df],axis=1)\n",
    "combined_df.replace(to_replace=np.nan, value='-99999', inplace=True)\n",
    "#combined_df.dropna(inplace=True)\n",
    "print (combined_df.shape)\n",
    "combined_df.head(5)"
   ]
  },
  {
   "cell_type": "code",
   "execution_count": 39,
   "metadata": {
    "collapsed": true
   },
   "outputs": [],
   "source": [
    "###### create predictor and target arrays\n",
    "X = combined_df.iloc[:, 4:]\n",
    "y = combined_df['Facies']\n",
    "groups = combined_df['Well Name']"
   ]
  },
  {
   "cell_type": "code",
   "execution_count": 57,
   "metadata": {
    "collapsed": false
   },
   "outputs": [
    {
     "name": "stdout",
     "output_type": "stream",
     "text": [
      "[ 0.58928359  0.5465534   0.40846775  0.39978187  0.52416729]\n"
     ]
    }
   ],
   "source": [
    "#Fold = KFold(n_split=5, shuffle=True, RanDomState=42)\n",
    "#Cl = RandomForestClassifier(n_estimators=1000, min_samples_split=20, min_samples_leaf=10, n_jobs=-1, class_weight='balanced', oob_score=True)\n",
    "#CV = cross_val_score(Cl, X, y, scoring='f1_weighted', cv=5)\n",
    "#print (CV)"
   ]
  },
  {
   "cell_type": "code",
   "execution_count": 40,
   "metadata": {
    "collapsed": false
   },
   "outputs": [
    {
     "data": {
      "image/png": "[encoded data removed]",
      "text/plain": [
       "<matplotlib.figure.Figure at 0x17ca774e518>"
      ]
     },
     "metadata": {},
     "output_type": "display_data"
    }
   ],
   "source": [
    "########### Tune max_features \n",
    "#rang = np.arange(10, 81, 10)\n",
    "rang = [0.1, 0.2, 0.3, 0.4, 0.5, 0.6, 0.7, 0.8, 0.9, 1.0]\n",
    "scores = []\n",
    "\n",
    "for val in rang:\n",
    "    Cl = RandomForestClassifier(n_estimators=100, max_features=val, min_samples_split=20, min_samples_leaf=10,\n",
    "                                class_weight='balanced', random_state=42, n_jobs=-1)\n",
    "    cv=LeaveOneGroupOut().split(X, y, groups)\n",
    "    validated = cross_val_score(Cl, X, y, scoring='f1_weighted', cv=cv, n_jobs=-1)\n",
    "    scores.append(validated)\n",
    "    \n",
    "scores = np.array(scores)\n",
    "scores = np.swapaxes(scores, 0, 1)\n",
    "scores = pd.DataFrame(data=scores, columns=rang)\n",
    "\n",
    "sns.boxplot(data=scores)\n",
    "\n",
    "plt.xlabel('max_feature')\n",
    "plt.ylabel('f1_weighted')\n",
    "plt.title('Classification accuracy for max_feature')\n",
    "plt.show()"
   ]
  },
  {
   "cell_type": "code",
   "execution_count": 41,
   "metadata": {
    "collapsed": false
   },
   "outputs": [
    {
     "data": {
      "image/png": "[encoded data removed]",
      "text/plain": [
       "<matplotlib.figure.Figure at 0x17ca25dd8d0>"
      ]
     },
     "metadata": {},
     "output_type": "display_data"
    }
   ],
   "source": [
    "########### Tune min_sample_leaf \n",
    "#rang = np.arange(5, 50, 5)\n",
    "rang = [5, 10, 25, 50, 100, 200, 500]\n",
    "scores = []\n",
    "\n",
    "for val in rang:\n",
    "    Cl = RandomForestClassifier(n_estimators=100, max_features=0.1, min_samples_leaf=val,\n",
    "                                class_weight='balanced', random_state=42, n_jobs=-1)\n",
    "    cv=LeaveOneGroupOut().split(X, y, groups)\n",
    "    validated = cross_val_score(Cl, X, y, scoring='f1_weighted', cv=cv, n_jobs=-1)\n",
    "    scores.append(validated)\n",
    "    \n",
    "scores = np.array(scores)\n",
    "scores = np.swapaxes(scores, 0, 1)\n",
    "scores = pd.DataFrame(data=scores, columns=rang)\n",
    "    \n",
    "sns.boxplot(data=scores)\n",
    "\n",
    "plt.xlabel('min_sample_leaf')\n",
    "plt.ylabel('accuracy')\n",
    "plt.title('Classification accuracy for min_sample_leaf')\n",
    "plt.show()"
   ]
  },
  {
   "cell_type": "code",
   "execution_count": 42,
   "metadata": {
    "collapsed": false
   },
   "outputs": [
    {
     "data": {
      "image/png": "[encoded data removed]",
      "text/plain": [
       "<matplotlib.figure.Figure at 0x17ca84bfe48>"
      ]
     },
     "metadata": {},
     "output_type": "display_data"
    }
   ],
   "source": [
    "########### Tune min_sample_split \n",
    "#rang = np.arange(20, 100, 10)\n",
    "rang = [25, 50, 75, 100, 150, 250, 500]\n",
    "scores = []\n",
    "\n",
    "for val in rang:\n",
    "    Cl = RandomForestClassifier(n_estimators=100, max_features=0.1, min_samples_leaf=25,\n",
    "                                min_samples_split=val, class_weight='balanced', random_state=42, n_jobs=-1)\n",
    "    cv=LeaveOneGroupOut().split(X, y, groups)\n",
    "    validated = cross_val_score(Cl, X, y, scoring='f1_weighted', cv=cv, n_jobs=-1)\n",
    "    scores.append(validated)\n",
    "    \n",
    "scores = np.array(scores)\n",
    "scores = np.swapaxes(scores, 0, 1)\n",
    "scores = pd.DataFrame(data=scores, columns=rang)\n",
    "    \n",
    "sns.boxplot(data=scores)\n",
    "\n",
    "plt.xlabel('min_sample_split')\n",
    "plt.ylabel('accuracy')\n",
    "plt.title('Classification accuracy for min_sample_split')\n",
    "plt.show()"
   ]
  },
  {
   "cell_type": "code",
   "execution_count": 51,
   "metadata": {
    "collapsed": false
   },
   "outputs": [
    {
     "data": {
      "image/png": "[encoded data removed]",
      "text/plain": [
       "<matplotlib.figure.Figure at 0x17cab395dd8>"
      ]
     },
     "metadata": {},
     "output_type": "display_data"
    }
   ],
   "source": [
    "########### Train \n",
    "#rang = np.arange(10, 81, 10)\n",
    "rang = [5, 10, 25, 50, 75, 100, 150, 200, 400, 1000]\n",
    "scores = []\n",
    "\n",
    "for val in rang:\n",
    "    Cl = RandomForestClassifier(n_estimators=val, max_features=0.1, min_samples_leaf=25,\n",
    "                                min_samples_split=50, class_weight='balanced', random_state=42, n_jobs=-1)\n",
    "    cv=LeaveOneGroupOut().split(X, y, groups)\n",
    "    validated = cross_val_score(Cl, X, y, scoring='f1_weighted', cv=cv, n_jobs=-1)\n",
    "    scores.append(validated)\n",
    "    \n",
    "scores = np.array(scores)\n",
    "scores = np.swapaxes(scores, 0, 1)\n",
    "scores = pd.DataFrame(data=scores, columns=rang)\n",
    "    \n",
    "sns.boxplot(data=scores)\n",
    "\n",
    "plt.xlabel('n_estimators')\n",
    "plt.ylabel('f1_weighted')\n",
    "plt.title('Classification accuracy for n_estimators')\n",
    "plt.show()"
   ]
  },
  {
   "cell_type": "code",
   "execution_count": 44,
   "metadata": {
    "collapsed": false
   },
   "outputs": [
    {
     "data": {
      "image/png": "[encoded data removed]",
      "text/plain": [
       "<matplotlib.figure.Figure at 0x17ca66f5400>"
      ]
     },
     "metadata": {},
     "output_type": "display_data"
    }
   ],
   "source": [
    "########### Train \n",
    "rang = np.arange(2, 25, 2)\n",
    "#rang = [5, 10, 25, 50, 75, 100, 150, 200, 400, 600, 1000, 2000]\n",
    "scores = []\n",
    "\n",
    "for val in rang:\n",
    "    Cl = RandomForestClassifier(n_estimators=val, max_features=0.1, min_samples_leaf=25,\n",
    "                                min_samples_split=50, class_weight='balanced', random_state=42, n_jobs=-1)\n",
    "    cv=LeaveOneGroupOut().split(X, y, groups)\n",
    "    validated = cross_val_score(Cl, X, y, scoring='f1_weighted', cv=cv, n_jobs=-1)\n",
    "    scores.append(validated)\n",
    "    \n",
    "scores = np.array(scores)\n",
    "scores = np.swapaxes(scores, 0, 1)\n",
    "scores = pd.DataFrame(data=scores, columns=rang)\n",
    "    \n",
    "sns.boxplot(data=scores)\n",
    "\n",
    "plt.xlabel('n_estimators')\n",
    "plt.ylabel('f1_weighted')\n",
    "plt.title('Classification accuracy for n_estimators')\n",
    "plt.show()"
   ]
  },
  {
   "cell_type": "code",
   "execution_count": 47,
   "metadata": {
    "collapsed": false
   },
   "outputs": [
    {
     "data": {
      "image/png": "[encoded data removed]",
      "text/plain": [
       "<matplotlib.figure.Figure at 0x17ca826d5c0>"
      ]
     },
     "metadata": {},
     "output_type": "display_data"
    }
   ],
   "source": [
    "######### Estimation of final scores from this tuning:\n",
    "scoring_param = ['accuracy', 'precision_weighted', 'recall_weighted', 'f1_weighted' ]\n",
    "scores = []\n",
    "\n",
    "for scoring in scoring_param:\n",
    "    Cl = RandomForestClassifier(n_estimators=100, max_features=0.1, min_samples_leaf=25,\n",
    "                                min_samples_split=50, class_weight='balanced', random_state=42, n_jobs=-1)\n",
    "    cv=LeaveOneGroupOut().split(X, y, groups)\n",
    "    validated = cross_val_score(Cl, X, y, scoring=scoring, cv=cv, n_jobs=-1)\n",
    "    scores.append(validated)\n",
    "    \n",
    "scores = np.array(scores)\n",
    "scores = np.swapaxes(scores, 0, 1)\n",
    "scores = pd.DataFrame(data=scores, columns=scoring_param)\n",
    "    \n",
    "sns.boxplot(data=scores)\n",
    "\n",
    "plt.xlabel('scoring parameters')\n",
    "plt.ylabel('score')\n",
    "plt.title('Classification scores for tuned parameters')\n",
    "plt.show()"
   ]
  },
  {
   "cell_type": "code",
   "execution_count": 50,
   "metadata": {
    "collapsed": false
   },
   "outputs": [
    {
     "name": "stdout",
     "output_type": "stream",
     "text": [
      "OOB estimate of accuracy for prospectivity classification using all features: 0.721860689323\n",
      "Feature ranking:\n",
      "1. feature 183 Marine_ratio_75_centered (0.037066)\n",
      "2. feature 185 Marine_ratio_200_centered (0.035025)\n",
      "3. feature 177 Marine_ratio_5_centered (0.033696)\n",
      "4. feature 181 Marine_ratio_30_centered (0.028251)\n",
      "5. feature 187 dist_M_down (0.025829)\n",
      "6. feature 178 Marine_ratio_10_centered (0.024134)\n",
      "7. feature 5 NM_M (0.023731)\n",
      "8. feature 184 Marine_ratio_100_centered (0.022627)\n",
      "9. feature 180 Marine_ratio_20_centered (0.020905)\n",
      "10. feature 179 Marine_ratio_15_centered (0.019756)\n",
      "11. feature 182 Marine_ratio_50_centered (0.017267)\n",
      "12. feature 143 GR_moving_min_4ft (0.015978)\n",
      "13. feature 144 GR_moving_min_5ft (0.014825)\n",
      "14. feature 188 dist_NM_up (0.013978)\n",
      "15. feature 65 PE_moving_av_10ft (0.013238)\n",
      "16. feature 189 dist_NM_down (0.013129)\n",
      "17. feature 142 GR_moving_min_3ft (0.012535)\n",
      "18. feature 186 dist_M_up (0.012314)\n",
      "19. feature 151 ILD_log10_moving_min_5ft (0.012168)\n",
      "20. feature 164 PE_moving_min_4ft (0.010737)\n",
      "21. feature 66 PE_moving_av_20ft (0.010675)\n",
      "22. feature 1 ILD_log10 (0.010242)\n",
      "23. feature 117 ILD_log10_moving_max_7ft (0.010160)\n",
      "24. feature 52 ILD_log10_moving_av_1ft (0.010131)\n",
      "25. feature 145 GR_moving_min_7ft (0.009852)\n",
      "26. feature 150 ILD_log10_moving_min_4ft (0.009117)\n",
      "27. feature 135 PHIND_moving_max_3ft (0.008795)\n",
      "28. feature 68 PHIND_moving_av_2ft (0.008387)\n",
      "29. feature 47 GR_moving_av_1ft (0.008346)\n",
      "30. feature 149 ILD_log10_moving_min_3ft (0.008277)\n",
      "31. feature 134 PE_moving_max_20ft (0.007965)\n",
      "32. feature 69 PHIND_moving_av_5ft (0.007957)\n",
      "33. feature 166 PE_moving_min_7ft (0.007940)\n",
      "34. feature 41 PE_cA_level_3 (0.007887)\n",
      "35. feature 136 PHIND_moving_max_4ft (0.007852)\n",
      "36. feature 54 ILD_log10_moving_av_5ft (0.007846)\n",
      "37. feature 67 PHIND_moving_av_1ft (0.007810)\n",
      "38. feature 6 RELPOS (0.007208)\n",
      "39. feature 167 PE_moving_min_10ft (0.006985)\n",
      "40. feature 53 ILD_log10_moving_av_2ft (0.006984)\n",
      "41. feature 146 GR_moving_min_10ft (0.006587)\n",
      "42. feature 114 ILD_log10_moving_max_3ft (0.006578)\n",
      "43. feature 171 PHIND_moving_min_4ft (0.006382)\n",
      "44. feature 170 PHIND_moving_min_3ft (0.006300)\n",
      "45. feature 0 GR (0.006167)\n",
      "46. feature 48 GR_moving_av_2ft (0.006143)\n",
      "47. feature 125 DeltaPHI_moving_max_10ft (0.006052)\n",
      "48. feature 115 ILD_log10_moving_max_4ft (0.005999)\n",
      "49. feature 165 PE_moving_min_5ft (0.005981)\n",
      "50. feature 133 PE_moving_max_15ft (0.005905)\n",
      "51. feature 153 ILD_log10_moving_min_10ft (0.005874)\n",
      "52. feature 172 PHIND_moving_min_5ft (0.005796)\n",
      "53. feature 56 ILD_log10_moving_av_20ft (0.005736)\n",
      "54. feature 3 PHIND (0.005615)\n",
      "55. feature 152 ILD_log10_moving_min_7ft (0.005538)\n",
      "56. feature 137 PHIND_moving_max_5ft (0.005518)\n",
      "57. feature 169 PE_moving_min_20ft (0.005478)\n",
      "58. feature 43 PHIND_cA_level_1 (0.005318)\n",
      "59. feature 118 ILD_log10_moving_max_10ft (0.005224)\n",
      "60. feature 147 GR_moving_min_15ft (0.005181)\n",
      "61. feature 168 PE_moving_min_15ft (0.005116)\n",
      "62. feature 64 PE_moving_av_5ft (0.005068)\n",
      "63. feature 138 PHIND_moving_max_7ft (0.004989)\n",
      "64. feature 49 GR_moving_av_5ft (0.004898)\n",
      "65. feature 38 DeltaPHI_cA_level_4 (0.004839)\n",
      "66. feature 60 DeltaPHI_moving_av_10ft (0.004820)\n",
      "67. feature 46 PHIND_cA_level_4 (0.004773)\n",
      "68. feature 121 DeltaPHI_moving_max_3ft (0.004606)\n",
      "69. feature 120 ILD_log10_moving_max_20ft (0.004566)\n",
      "70. feature 131 PE_moving_max_7ft (0.004520)\n",
      "71. feature 155 ILD_log10_moving_min_20ft (0.004507)\n",
      "72. feature 107 GR_moving_max_3ft (0.004445)\n",
      "73. feature 148 GR_moving_min_20ft (0.004438)\n",
      "74. feature 141 PHIND_moving_max_20ft (0.004402)\n",
      "75. feature 126 DeltaPHI_moving_max_15ft (0.004237)\n",
      "76. feature 173 PHIND_moving_min_7ft (0.004209)\n",
      "77. feature 154 ILD_log10_moving_min_15ft (0.004142)\n",
      "78. feature 127 DeltaPHI_moving_max_20ft (0.004082)\n",
      "79. feature 116 ILD_log10_moving_max_5ft (0.004062)\n",
      "80. feature 22 PE_cD_level_4 (0.004030)\n",
      "81. feature 40 PE_cA_level_2 (0.004008)\n",
      "82. feature 30 GR_cA_level_4 (0.003984)\n",
      "83. feature 70 PHIND_moving_av_10ft (0.003724)\n",
      "84. feature 158 DeltaPHI_moving_min_5ft (0.003620)\n",
      "85. feature 159 DeltaPHI_moving_min_7ft (0.003582)\n",
      "86. feature 160 DeltaPHI_moving_min_10ft (0.003568)\n",
      "87. feature 59 DeltaPHI_moving_av_5ft (0.003545)\n",
      "88. feature 174 PHIND_moving_min_10ft (0.003526)\n",
      "89. feature 99 PE_moving_std_20ft (0.003456)\n",
      "90. feature 129 PE_moving_max_4ft (0.003448)\n",
      "91. feature 14 ILD_log10_cD_level_4 (0.003410)\n",
      "92. feature 106 PHIND_moving_std_20ft (0.003381)\n",
      "93. feature 124 DeltaPHI_moving_max_7ft (0.003331)\n",
      "94. feature 57 DeltaPHI_moving_av_1ft (0.003308)\n",
      "95. feature 161 DeltaPHI_moving_min_15ft (0.003274)\n",
      "96. feature 34 ILD_log10_cA_level_4 (0.003253)\n",
      "97. feature 119 ILD_log10_moving_max_15ft (0.003224)\n",
      "98. feature 123 DeltaPHI_moving_max_5ft (0.003169)\n",
      "99. feature 39 PE_cA_level_1 (0.003103)\n",
      "100. feature 130 PE_moving_max_5ft (0.003102)\n",
      "101. feature 162 DeltaPHI_moving_min_20ft (0.003084)\n",
      "102. feature 122 DeltaPHI_moving_max_4ft (0.003005)\n",
      "103. feature 92 DeltaPHI_moving_std_20ft (0.002956)\n",
      "104. feature 139 PHIND_moving_max_10ft (0.002940)\n",
      "105. feature 156 DeltaPHI_moving_min_3ft (0.002921)\n",
      "106. feature 37 DeltaPHI_cA_level_3 (0.002893)\n",
      "107. feature 157 DeltaPHI_moving_min_4ft (0.002879)\n",
      "108. feature 140 PHIND_moving_max_15ft (0.002850)\n",
      "109. feature 58 DeltaPHI_moving_av_2ft (0.002815)\n",
      "110. feature 61 DeltaPHI_moving_av_20ft (0.002787)\n",
      "111. feature 132 PE_moving_max_10ft (0.002758)\n",
      "112. feature 98 PE_moving_std_15ft (0.002745)\n",
      "113. feature 31 ILD_log10_cA_level_1 (0.002736)\n",
      "114. feature 10 GR_cD_level_4 (0.002735)\n",
      "115. feature 27 GR_cA_level_1 (0.002649)\n",
      "116. feature 108 GR_moving_max_4ft (0.002607)\n",
      "117. feature 77 GR_moving_std_15ft (0.002595)\n",
      "118. feature 2 DeltaPHI (0.002549)\n",
      "119. feature 55 ILD_log10_moving_av_10ft (0.002530)\n",
      "120. feature 32 ILD_log10_cA_level_2 (0.002509)\n",
      "121. feature 128 PE_moving_max_3ft (0.002485)\n",
      "122. feature 91 DeltaPHI_moving_std_15ft (0.002442)\n",
      "123. feature 105 PHIND_moving_std_15ft (0.002387)\n",
      "124. feature 42 PE_cA_level_4 (0.002370)\n",
      "125. feature 110 GR_moving_max_7ft (0.002354)\n",
      "126. feature 29 GR_cA_level_3 (0.002214)\n",
      "127. feature 71 PHIND_moving_av_20ft (0.002184)\n",
      "128. feature 28 GR_cA_level_2 (0.002138)\n",
      "129. feature 50 GR_moving_av_10ft (0.002115)\n",
      "130. feature 62 PE_moving_av_1ft (0.002091)\n",
      "131. feature 175 PHIND_moving_min_15ft (0.002076)\n",
      "132. feature 78 GR_moving_std_20ft (0.002055)\n",
      "133. feature 112 GR_moving_max_15ft (0.002011)\n",
      "134. feature 26 PHIND_cD_level_4 (0.002005)\n",
      "135. feature 85 ILD_log10_moving_std_20ft (0.001990)\n",
      "136. feature 44 PHIND_cA_level_2 (0.001943)\n",
      "137. feature 111 GR_moving_max_10ft (0.001906)\n",
      "138. feature 90 DeltaPHI_moving_std_10ft (0.001879)\n",
      "139. feature 163 PE_moving_min_3ft (0.001852)\n",
      "140. feature 45 PHIND_cA_level_3 (0.001846)\n",
      "141. feature 84 ILD_log10_moving_std_15ft (0.001798)\n",
      "142. feature 18 DeltaPHI_cD_level_4 (0.001787)\n",
      "143. feature 176 PHIND_moving_min_20ft (0.001668)\n",
      "144. feature 33 ILD_log10_cA_level_3 (0.001660)\n",
      "145. feature 113 GR_moving_max_20ft (0.001651)\n",
      "146. feature 109 GR_moving_max_5ft (0.001643)\n",
      "147. feature 76 GR_moving_std_10ft (0.001532)\n",
      "148. feature 104 PHIND_moving_std_10ft (0.001531)\n",
      "149. feature 97 PE_moving_std_10ft (0.001526)\n",
      "150. feature 13 ILD_log10_cD_level_3 (0.001488)\n",
      "151. feature 51 GR_moving_av_20ft (0.001482)\n",
      "152. feature 17 DeltaPHI_cD_level_3 (0.001432)\n",
      "153. feature 83 ILD_log10_moving_std_10ft (0.001379)\n",
      "154. feature 4 PE (0.001247)\n",
      "155. feature 63 PE_moving_av_2ft (0.001246)\n",
      "156. feature 96 PE_moving_std_7ft (0.001231)\n",
      "157. feature 35 DeltaPHI_cA_level_1 (0.001052)\n",
      "158. feature 102 PHIND_moving_std_5ft (0.001025)\n",
      "159. feature 95 PE_moving_std_5ft (0.000960)\n",
      "160. feature 89 DeltaPHI_moving_std_7ft (0.000916)\n",
      "161. feature 82 ILD_log10_moving_std_7ft (0.000913)\n",
      "162. feature 21 PE_cD_level_3 (0.000910)\n",
      "163. feature 101 PHIND_moving_std_4ft (0.000903)\n",
      "164. feature 25 PHIND_cD_level_3 (0.000876)\n",
      "165. feature 20 PE_cD_level_2 (0.000861)\n",
      "166. feature 103 PHIND_moving_std_7ft (0.000827)\n",
      "167. feature 75 GR_moving_std_7ft (0.000819)\n",
      "168. feature 8 GR_cD_level_2 (0.000817)\n",
      "169. feature 9 GR_cD_level_3 (0.000812)\n",
      "170. feature 36 DeltaPHI_cA_level_2 (0.000811)\n",
      "171. feature 74 GR_moving_std_5ft (0.000754)\n",
      "172. feature 88 DeltaPHI_moving_std_5ft (0.000751)\n",
      "173. feature 80 ILD_log10_moving_std_4ft (0.000744)\n",
      "174. feature 100 PHIND_moving_std_3ft (0.000744)\n",
      "175. feature 94 PE_moving_std_4ft (0.000712)\n",
      "176. feature 87 DeltaPHI_moving_std_4ft (0.000685)\n",
      "177. feature 24 PHIND_cD_level_2 (0.000652)\n",
      "178. feature 12 ILD_log10_cD_level_2 (0.000648)\n",
      "179. feature 16 DeltaPHI_cD_level_2 (0.000640)\n",
      "180. feature 86 DeltaPHI_moving_std_3ft (0.000625)\n",
      "181. feature 72 GR_moving_std_3ft (0.000477)\n",
      "182. feature 81 ILD_log10_moving_std_5ft (0.000446)\n",
      "183. feature 15 DeltaPHI_cD_level_1 (0.000417)\n",
      "184. feature 7 GR_cD_level_1 (0.000392)\n",
      "185. feature 73 GR_moving_std_4ft (0.000383)\n",
      "186. feature 11 ILD_log10_cD_level_1 (0.000360)\n",
      "187. feature 23 PHIND_cD_level_1 (0.000348)\n",
      "188. feature 19 PE_cD_level_1 (0.000282)\n",
      "189. feature 93 PE_moving_std_3ft (0.000272)\n",
      "190. feature 79 ILD_log10_moving_std_3ft (0.000233)\n"
     ]
    },
    {
     "data": {
      "image/png": "[encoded data removed]",
      "text/plain": [
       "<matplotlib.figure.Figure at 0x17ca8bcb198>"
      ]
     },
     "metadata": {},
     "output_type": "display_data"
    }
   ],
   "source": [
    "Cl = RandomForestClassifier(n_estimators=100, max_features=0.1, min_samples_leaf=25,\n",
    "                            min_samples_split=50, class_weight='balanced', random_state=42,oob_score=True, n_jobs=-1)\n",
    "Cl.fit(X, y)\n",
    "print ('OOB estimate of accuracy for prospectivity classification using all features: %s' % str(Cl.oob_score_))\n",
    "\n",
    "importances = Cl.feature_importances_ \n",
    "std = np.std([tree.feature_importances_ for tree in Cl.estimators_], axis=0)\n",
    "indices = np.argsort(importances)[::-1]\n",
    "print(\"Feature ranking:\")\n",
    "Vars = list(X.columns.values)\n",
    "for f in range(X.shape[1]):\n",
    "    print(\"%d. feature %d %s (%f)\" % (f + 1, indices[f], Vars[indices[f]], importances[indices[f]]))\n",
    "\n",
    "########## Plot the feature importances of the forest\n",
    "plt.figure()\n",
    "plt.title(\"Feature importances\")\n",
    "#plt.bar(range(X.shape[1]), importances[indices],\n",
    "       #color=\"r\", yerr=std[indices], align=\"center\")\n",
    "plt.bar(range(X.shape[1]), importances[indices],\n",
    "       color=\"r\", align=\"center\")\n",
    "plt.xticks(range(X.shape[1]), indices)\n",
    "plt.xlim([-1, X.shape[1]])\n",
    "plt.show()"
   ]
  },
  {
   "cell_type": "code",
   "execution_count": null,
   "metadata": {
    "collapsed": true
   },
   "outputs": [],
   "source": []
  }
 ],
 "metadata": {
  "anaconda-cloud": {},
  "kernelspec": {
   "display_name": "Python [Root]",
   "language": "python",
   "name": "Python [Root]"
  },
  "language_info": {
   "codemirror_mode": {
    "name": "ipython",
    "version": 3
   },
   "file_extension": ".py",
   "mimetype": "text/x-python",
   "name": "python",
   "nbconvert_exporter": "python",
   "pygments_lexer": "ipython3",
   "version": "3.5.2"
  }
 },
 "nbformat": 4,
 "nbformat_minor": 1
}
